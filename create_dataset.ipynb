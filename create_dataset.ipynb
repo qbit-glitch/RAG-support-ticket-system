{
 "cells": [
  {
   "cell_type": "markdown",
   "id": "67abe92a",
   "metadata": {},
   "source": [
    "## Generate a Synthetic dataset\n",
    "\n",
    "- model used : Qwen3-0.6B\n",
    "- model uses a few shot prompt technique to understand the query of the customer and then converts the query into a `support ticket vector` for the customer support process.\n",
    "- I have used ChatGPT to create 40 customer queries and later use these customer queries are passed to the LLM Qwen3-0.6B to generate a default formatted Support Ticket.\n",
    "- Used Few-Shot Prompts to generate a Support Ticket via the LLM\n",
    "- Parse the string created by the LLM and convert it into an actual JSON object\n",
    "- store the queries and the support ticket into a csv file for later use as a vector db"
   ]
  },
  {
   "cell_type": "code",
   "execution_count": 1,
   "id": "62372bff",
   "metadata": {},
   "outputs": [],
   "source": [
    "\"\"\"Generating a synthetic dataset\"\"\"\n",
    "\n",
    "import numpy as np\n",
    "import pandas as pd\n",
    "import json\n"
   ]
  },
  {
   "cell_type": "code",
   "execution_count": 2,
   "id": "2eb7da06",
   "metadata": {},
   "outputs": [],
   "source": [
    "# Sample Cutomer Query\n",
    "customer_query = \"\"\"Hi there,\n",
    "We're experiencing issues with file uploads in your web app. Whenever we try to upload a PDF larger than 5MB, it fails silently—no error message, just nothing happens. This occurs on both Edge (v120) and Chrome (v121) on Windows 11. Smaller files seem to upload fine. Can you look into this?\n",
    "\n",
    "Best,\n",
    "Ayesha (IT Admin, Acme Corp)\"\"\""
   ]
  },
  {
   "cell_type": "code",
   "execution_count": 3,
   "id": "6ddf657f",
   "metadata": {},
   "outputs": [],
   "source": [
    "from transformers import AutoModelForCausalLM, AutoTokenizer\n",
    "import re\n",
    "def generate_support_ticket(query):\n",
    "\n",
    "    model_name = \"Qwen/Qwen3-1.7B\"\n",
    "\n",
    "    # load the tokenizer and the model\n",
    "    tokenizer = AutoTokenizer.from_pretrained(model_name)\n",
    "    model = AutoModelForCausalLM.from_pretrained(\n",
    "        model_name,\n",
    "        torch_dtype=\"auto\",\n",
    "        device_map=\"auto\"\n",
    "    )\n",
    "\n",
    "    customer_query = query\n",
    "    prompt = f\"\"\"\n",
    "    You are a structured support assistant. Your role is to extract key information from customer queries and generate a suggested resolution. Return everything as a properly formatted JSON object.\n",
    "\n",
    "    Instructions:\n",
    "    - Output only the JSON object — no additional text, labels, or explanations.\n",
    "    - Ensure the JSON is syntactically valid: use double quotes, proper commas, and braces.\n",
    "    - The \"Resolution\" field must contain a reasonable fix or suggestion based on the described problem.\n",
    "    - The \"Resolution\" field is mandatory — infer a likely troubleshooting step or recommendation, even if it’s not explicitly stated in the query.\n",
    "    - Try to fill in as many relevant values as possible based on the query. If you are unsure about a value for any key, set it to null.\n",
    "    - If the customer value is null, make it 'Individual'\n",
    "\n",
    "    Fields to extract:\n",
    "    {{\n",
    "        \"Query\": \"Full query with all greetings and names removed\",\n",
    "        \"Title\": \"One-line summary of the issue\",\n",
    "        \"Browser\": \"Browser name and version if mentioned\",\n",
    "        \"OS\": \"Operating system if mentioned\",\n",
    "        \"Customer Type\": \"Individual, Enterprise, Developer, etc.\",\n",
    "        \"Issue\": \"Short description of the core problem\",\n",
    "        \"Resolution\": \"Recommended troubleshooting step or fix\"\n",
    "    }}\n",
    "\n",
    "    Examples:\n",
    "\n",
    "    Example 1:\n",
    "    Query:\n",
    "    \"\n",
    "    Hi,\n",
    "    I'm having trouble logging into our account using Single Sign-On (SSO) on Safari (version 16.3) on macOS Ventura. When I try to log in, I'm stuck in a redirect loop and never reach the dashboard. This issue doesn't occur on other browsers. Could you please help me resolve this?\n",
    "\n",
    "    Thanks,\n",
    "    John\n",
    "    \"\n",
    "\n",
    "    Response:\n",
    "    {{\n",
    "        \"Query\": \"I'm having trouble logging into our account using Single Sign-On (SSO) on Safari (version 16.3) on macOS Ventura. When I try to log in, I'm stuck in a redirect loop and never reach the dashboard. This issue doesn't occur on other browsers.\",\n",
    "        \"Title\": \"Login failure on Safari for SSO users\",\n",
    "        \"Browser\": \"Safari 16.3\",\n",
    "        \"OS\": \"macOS Ventura\",\n",
    "        \"Customer Type\": \"Enterprise\",\n",
    "        \"Issue\": \"Redirect loop during SSO login\",\n",
    "        \"Resolution\": \"Clear cookies and enable cross-site tracking in Safari settings\"\n",
    "    }}\n",
    "\n",
    "    Example 2:\n",
    "    Query:\n",
    "    \"\n",
    "    Hello team,\n",
    "    Our developer portal isn't loading correctly in Chrome. We see a blank white screen after logging in. No errors appear, but the console shows some CORS-related messages. We're accessing from Windows 10.\n",
    "\n",
    "    Thanks,\n",
    "    Kira (DevOps Engineer)\n",
    "    \"\n",
    "\n",
    "    Response:\n",
    "    {{\n",
    "        \"Query\": \"Our developer portal isn't loading correctly in Chrome. We see a blank white screen after logging in. No errors appear, but the console shows some CORS-related messages. We're accessing from Windows 10.\",\n",
    "        \"Title\": \"Developer portal fails to load in Chrome\",\n",
    "        \"Browser\": \"Chrome (version not specified)\",\n",
    "        \"OS\": \"Windows 10\",\n",
    "        \"Customer Type\": \"Developer\",\n",
    "        \"Issue\": \"Blank screen and CORS warnings post-login\",\n",
    "        \"Resolution\": \"Check CORS headers on the server and suggest using the latest browser version\"\n",
    "    }}\n",
    "\n",
    "    Now process the following query and return only a valid JSON object:\n",
    "\n",
    "    Query:\n",
    "    {customer_query}\n",
    "    \"\"\"\n",
    "\n",
    "\n",
    "    messages = [\n",
    "        {\"role\": \"user\", \"content\": prompt}\n",
    "    ]\n",
    "    text = tokenizer.apply_chat_template(\n",
    "        messages,\n",
    "        tokenize=False,\n",
    "        add_generation_prompt=True,\n",
    "        enable_thinking=True # Switches between thinking and non-thinking modes. Default is True.\n",
    "    )\n",
    "    model_inputs = tokenizer([text], return_tensors=\"pt\").to(model.device)\n",
    "\n",
    "    # conduct text completion\n",
    "    generated_ids = model.generate(\n",
    "        **model_inputs,\n",
    "        max_new_tokens=32768\n",
    "    )\n",
    "    output_ids = generated_ids[0][len(model_inputs.input_ids[0]):].tolist() \n",
    "\n",
    "    # parsing thinking content\n",
    "    try:\n",
    "        # rindex finding 151668 (</think>)\n",
    "        index = len(output_ids) - output_ids[::-1].index(151668)\n",
    "    except ValueError:\n",
    "        index = 0\n",
    "\n",
    "    thinking_content = tokenizer.decode(output_ids[:index], skip_special_tokens=True).strip(\"\\n\")\n",
    "    content = tokenizer.decode(output_ids[index:], skip_special_tokens=True).strip(\"\\n\")\n",
    "    \n",
    "    return content\n",
    "\n"
   ]
  },
  {
   "cell_type": "markdown",
   "id": "ec85a3bc",
   "metadata": {},
   "source": [
    "### Import customer queries csv file\n",
    "- Load the customer queries from the `customer queries.csv` file into a dataset variable using pandas\n",
    "- Convert the pandas dataframe into list for easy list parsing"
   ]
  },
  {
   "cell_type": "code",
   "execution_count": 4,
   "id": "1c588bb1",
   "metadata": {},
   "outputs": [],
   "source": [
    "\n",
    "queries_dataset = pd.read_csv(\"./datasets/customer_queries.csv\")\n",
    "queries_dataset = queries_dataset['Query'].to_list()\n"
   ]
  },
  {
   "cell_type": "code",
   "execution_count": 5,
   "id": "7e011241",
   "metadata": {},
   "outputs": [],
   "source": [
    "\"\"\"Function to structure the response as the responses may be unstructure\n",
    "- A class SupportCase deriving from Pydantic BaseModel\n",
    "- Parsers to parse the response and convert it into a well-defined structured Support Ticket item.\n",
    "\"\"\"\n",
    "\n",
    "import re\n",
    "from pydantic import BaseModel, Field\n",
    "\n",
    "\n",
    "class SupportCase(BaseModel):\n",
    "    Query: str\n",
    "    Title: str\n",
    "    Browser: str\n",
    "    OS: str\n",
    "    Customer_Type: str\n",
    "    Issue: str\n",
    "    Resolution: str\n",
    "\n",
    "\n",
    "def parse_unstructured_response(response: str) -> SupportCase:\n",
    "    \"\"\"Define the patterns for the parser and later parse the response to convert it to the desired format\n",
    "    Rules for parsing: \n",
    "        1. If double quotes (\") are before newline there then it stops until double quotes\n",
    "        2. If comma (,) is before newline and no double quotes then it stops until comma\n",
    "        3. If both are present (, and \") it stops until double quotes.\n",
    "        4. If both are absent then the parser stops at the newline\n",
    "\n",
    "    \"\"\"\n",
    "    patterns = {\n",
    "        \"Query\": r'\"Query\":\\s*\"([^\"\\n,]*)(?:(?<=,)[^\"\\n]*|(?<=\\n)[^\"]*)?',\n",
    "        \"Title\": r'\"Title\":\\s*\"([^\"\\n,]*)(?:(?<=,)[^\"\\n]*|(?<=\\n)[^\"]*)?',\n",
    "        \"Browser\": r'\"Browser\":\\s*\"([^\"\\n,]*)(?:(?<=,)[^\"\\n]*|(?<=\\n)[^\"]*)?',\n",
    "        \"OS\": r'\"OS\":\\s*\"([^\"\\n,]*)(?:(?<=,)[^\"\\n]*|(?<=\\n)[^\"]*)?',\n",
    "        \"Customer_Type\": r'\"Customer Type\":\\s*\"([^\"\\n,]*)(?:(?<=,)[^\"\\n]*|(?<=\\n)[^\"]*)?',\n",
    "        \"Issue\": r'\"Issue\":\\s*\"([^\"\\n,]*)(?:(?<=,)[^\"\\n]*|(?<=\\n)[^\"]*)?',\n",
    "        \"Resolution\": r'\"Resolution\":\\s*\"([^\"\\n,]*)(?:(?<=,)[^\"\\n]*|(?<=\\n)[^\"]*)?'\n",
    "    }\n",
    "    parsed_data = {key: re.search(pattern, response, re.DOTALL).group(1).strip() if re.search(pattern, response, re.DOTALL) else \"\" for key, pattern in patterns.items()}\n",
    "    return SupportCase(**parsed_data)\n"
   ]
  },
  {
   "cell_type": "code",
   "execution_count": 6,
   "id": "4eb71990",
   "metadata": {},
   "outputs": [],
   "source": [
    "\n",
    "from tqdm import tqdm\n",
    "def generate_synthetic_dataset(query): \n",
    "    \"\"\"Generate the synthetic data\n",
    "    - Parse the response to a structured SupportCase object\n",
    "    - Convert the SupportCase object into a dictionary\n",
    "    - return the dictionary\n",
    "    \"\"\"   \n",
    "\n",
    "    response = generate_support_ticket(query)\n",
    "    support_ticket = parse_unstructured_response(response)\n",
    "    support_ticket = support_ticket.model_dump()\n",
    "    return support_ticket\n",
    "\n"
   ]
  },
  {
   "cell_type": "code",
   "execution_count": 7,
   "id": "a944d708",
   "metadata": {},
   "outputs": [
    {
     "name": "stderr",
     "output_type": "stream",
     "text": [
      "Generating Synthetic Data .. :   0%|          | 0/40 [00:00<?, ?it/s]"
     ]
    },
    {
     "data": {
      "application/vnd.jupyter.widget-view+json": {
       "model_id": "ae7484aaa1cf488286c823c18d811664",
       "version_major": 2,
       "version_minor": 0
      },
      "text/plain": [
       "Loading checkpoint shards:   0%|          | 0/2 [00:00<?, ?it/s]"
      ]
     },
     "metadata": {},
     "output_type": "display_data"
    },
    {
     "name": "stderr",
     "output_type": "stream",
     "text": [
      "Generating Synthetic Data .. :   2%|▎         | 1/40 [00:39<25:25, 39.12s/it]"
     ]
    },
    {
     "name": "stdout",
     "output_type": "stream",
     "text": [
      "{'Query': \"I'm unable to generate reports from the dashboard. The button remains greyed out even after selecting all the required filters. This happens on Chrome on macOS Sonoma.\", 'Title': 'Dashboard report generation button is greyed out after applying filters', 'Browser': 'Chrome', 'OS': 'macOS Sonoma', 'Customer_Type': 'Individual', 'Issue': 'Dashboard report generation button remains greyed out after applying filters', 'Resolution': 'Clear browser cache and cookies'}\n"
     ]
    },
    {
     "data": {
      "application/vnd.jupyter.widget-view+json": {
       "model_id": "ee2d61b805074e15ab310b50ce694f81",
       "version_major": 2,
       "version_minor": 0
      },
      "text/plain": [
       "Loading checkpoint shards:   0%|          | 0/2 [00:00<?, ?it/s]"
      ]
     },
     "metadata": {},
     "output_type": "display_data"
    },
    {
     "name": "stderr",
     "output_type": "stream",
     "text": [
      "Generating Synthetic Data .. :   5%|▌         | 2/40 [01:08<21:05, 33.29s/it]"
     ]
    },
    {
     "name": "stdout",
     "output_type": "stream",
     "text": [
      "{'Query': \"Our team can't access shared folders anymore. We keep getting a 'Permission Denied' error\", 'Title': 'Shared folder access denied error on Firefox on Windows 10', 'Browser': 'Firefox', 'OS': 'Windows 10', 'Customer_Type': 'Enterprise', 'Issue': 'Permission denied error when accessing shared folders despite no role changes', 'Resolution': 'Check firewall settings and ensure the shared folder permissions are correctly configured'}\n"
     ]
    },
    {
     "data": {
      "application/vnd.jupyter.widget-view+json": {
       "model_id": "b6c6ba3effb340429044a7df9a582c94",
       "version_major": 2,
       "version_minor": 0
      },
      "text/plain": [
       "Loading checkpoint shards:   0%|          | 0/2 [00:00<?, ?it/s]"
      ]
     },
     "metadata": {},
     "output_type": "display_data"
    },
    {
     "name": "stderr",
     "output_type": "stream",
     "text": [
      "Generating Synthetic Data .. :   8%|▊         | 3/40 [02:06<27:37, 44.81s/it]"
     ]
    },
    {
     "name": "stdout",
     "output_type": "stream",
     "text": [
      "{'Query': \"The mobile app crashes on launch for Android 14 users. It briefly shows the splash screen then closes. We've tried reinstalling. Help? – Dev Team\", 'Title': 'Mobile app crashes on launch for Android 14 users', 'Browser': '', 'OS': 'Android 14', 'Customer_Type': 'Developer', 'Issue': 'Mobile app crashes on launch for Android 14 users', 'Resolution': 'Check for app updates and ensure the device is compatible with Android 14. If the issue persists'}\n"
     ]
    },
    {
     "data": {
      "application/vnd.jupyter.widget-view+json": {
       "model_id": "089ba7a4b586438fbf8134cc79165dd7",
       "version_major": 2,
       "version_minor": 0
      },
      "text/plain": [
       "Loading checkpoint shards:   0%|          | 0/2 [00:00<?, ?it/s]"
      ]
     },
     "metadata": {},
     "output_type": "display_data"
    },
    {
     "name": "stderr",
     "output_type": "stream",
     "text": [
      "Generating Synthetic Data .. :  10%|█         | 4/40 [02:30<21:59, 36.65s/it]"
     ]
    },
    {
     "name": "stdout",
     "output_type": "stream",
     "text": [
      "{'Query': \"Emails from your system are being flagged as spam by Gmail. We're missing important notifications. Can you adjust the sending domain or SPF records? Thanks\", 'Title': 'Email spam flagging and notification issues', 'Browser': '', 'OS': '', 'Customer_Type': 'Individual', 'Issue': 'Emails flagged as spam by Gmail leading to missing notifications', 'Resolution': \"Check and update SPF records or adjust the sending domain settings in Gmail's spam filtering settings\"}\n"
     ]
    },
    {
     "data": {
      "application/vnd.jupyter.widget-view+json": {
       "model_id": "018b4d4409f143c0b4f1f91810472e3e",
       "version_major": 2,
       "version_minor": 0
      },
      "text/plain": [
       "Loading checkpoint shards:   0%|          | 0/2 [00:00<?, ?it/s]"
      ]
     },
     "metadata": {},
     "output_type": "display_data"
    },
    {
     "name": "stderr",
     "output_type": "stream",
     "text": [
      "Generating Synthetic Data .. :  12%|█▎        | 5/40 [03:05<21:01, 36.04s/it]"
     ]
    },
    {
     "name": "stdout",
     "output_type": "stream",
     "text": [
      "{'Query': 'I’m seeing a 502 Bad Gateway error when trying to access our billing page. This happens in Safari on iOS 17.', 'Title': 'Billing page fails with 502 Bad Gateway error in Safari on iOS 17', 'Browser': 'Safari iOS 17', 'OS': 'iOS 17', 'Customer_Type': 'Individual', 'Issue': '502 Bad Gateway error when accessing billing page in Safari on iOS 17', 'Resolution': 'Check server logs and ensure the billing service is running correctly. Verify if there are any known issues with the billing page or server configuration.'}\n"
     ]
    },
    {
     "data": {
      "application/vnd.jupyter.widget-view+json": {
       "model_id": "5aa6e464346a4fa79956526133c449e0",
       "version_major": 2,
       "version_minor": 0
      },
      "text/plain": [
       "Loading checkpoint shards:   0%|          | 0/2 [00:00<?, ?it/s]"
      ]
     },
     "metadata": {},
     "output_type": "display_data"
    },
    {
     "name": "stderr",
     "output_type": "stream",
     "text": [
      "Generating Synthetic Data .. :  15%|█▌        | 6/40 [03:27<17:34, 31.01s/it]"
     ]
    },
    {
     "name": "stdout",
     "output_type": "stream",
     "text": [
      "{'Query': \"we tried importing our user data via CSV but keep getting 'Invalid file format' even though it follows the template.\", 'Title': 'CSV import failure with invalid format', 'Browser': 'Edge', 'OS': 'Windows 11', 'Customer_Type': 'Individual', 'Issue': 'CSV file format error despite following the template', 'Resolution': 'Verify file encoding (UTF-8 or UTF-16) and check for missing commas or incorrect delimiters in the CSV'}\n"
     ]
    },
    {
     "data": {
      "application/vnd.jupyter.widget-view+json": {
       "model_id": "cb8e85d8f5ad4d08957aaef9598744a6",
       "version_major": 2,
       "version_minor": 0
      },
      "text/plain": [
       "Loading checkpoint shards:   0%|          | 0/2 [00:00<?, ?it/s]"
      ]
     },
     "metadata": {},
     "output_type": "display_data"
    },
    {
     "name": "stderr",
     "output_type": "stream",
     "text": [
      "Generating Synthetic Data .. :  18%|█▊        | 7/40 [03:50<15:39, 28.46s/it]"
     ]
    },
    {
     "name": "stdout",
     "output_type": "stream",
     "text": [
      "{'Query': \"I noticed the time tracking widget is not syncing with our calendar anymore. We're using Google Calendar integration. This started last week. Help appreciated! – Camille\", 'Title': 'Time tracking widget not syncing with Google Calendar', 'Browser': '', 'OS': '', 'Customer_Type': 'Individual', 'Issue': 'Time tracking widget not syncing with Google Calendar', 'Resolution': \"Check the Google Calendar integration settings in the time tracking tool and ensure it's properly configured\"}\n"
     ]
    },
    {
     "data": {
      "application/vnd.jupyter.widget-view+json": {
       "model_id": "c3418ed0e62f498bb5cca61b776609fa",
       "version_major": 2,
       "version_minor": 0
      },
      "text/plain": [
       "Loading checkpoint shards:   0%|          | 0/2 [00:00<?, ?it/s]"
      ]
     },
     "metadata": {},
     "output_type": "display_data"
    },
    {
     "name": "stderr",
     "output_type": "stream",
     "text": [
      "Generating Synthetic Data .. :  20%|██        | 8/40 [04:28<16:48, 31.52s/it]"
     ]
    },
    {
     "name": "stdout",
     "output_type": "stream",
     "text": [
      "{'Query': \"we just onboarded a new employee but they’re stuck at the 'Verify your email' step. They never get the email. We've checked spam and firewall.\", 'Title': 'Email verification failure for new employee', 'Browser': '', 'OS': '', 'Customer_Type': 'Individual', 'Issue': 'Email verification failure for new employee', 'Resolution': \"Check if the email was sent to the correct address and ensure the employee is checking their inbox. Verify email settings and confirm the employee's account is properly configured.\"}\n"
     ]
    },
    {
     "data": {
      "application/vnd.jupyter.widget-view+json": {
       "model_id": "d014546e072a4ab78fcd8ee5dc75e0f7",
       "version_major": 2,
       "version_minor": 0
      },
      "text/plain": [
       "Loading checkpoint shards:   0%|          | 0/2 [00:00<?, ?it/s]"
      ]
     },
     "metadata": {},
     "output_type": "display_data"
    },
    {
     "name": "stderr",
     "output_type": "stream",
     "text": [
      "Generating Synthetic Data .. :  22%|██▎       | 9/40 [04:53<15:12, 29.45s/it]"
     ]
    },
    {
     "name": "stdout",
     "output_type": "stream",
     "text": [
      "{'Query': \"Our API calls are failing with a 403 error since yesterday. Our API key hasn't changed. Could it be rate limiting or permission-related?\", 'Title': 'API 403 error due to rate limiting or permissions', 'Browser': '', 'OS': '', 'Customer_Type': 'Developer', 'Issue': '403 error during API calls', 'Resolution': 'Check API rate limits and verify API key permissions. Ensure the API key is valid and has the necessary access rights.'}\n"
     ]
    },
    {
     "data": {
      "application/vnd.jupyter.widget-view+json": {
       "model_id": "f7bdae4b6be1411bb396cd797454668e",
       "version_major": 2,
       "version_minor": 0
      },
      "text/plain": [
       "Loading checkpoint shards:   0%|          | 0/2 [00:00<?, ?it/s]"
      ]
     },
     "metadata": {},
     "output_type": "display_data"
    },
    {
     "name": "stderr",
     "output_type": "stream",
     "text": [
      "Generating Synthetic Data .. :  25%|██▌       | 10/40 [05:25<15:11, 30.37s/it]"
     ]
    },
    {
     "name": "stdout",
     "output_type": "stream",
     "text": [
      "{'Query': 'The new dashboard layout doesn’t load on Safari 15. It shows a blank screen. Other browsers work fine. Is this a known issue? – Michael', 'Title': 'Dashboard layout fails to load on Safari 15 with blank screen', 'Browser': 'Safari 15', 'OS': '', 'Customer_Type': 'Individual', 'Issue': 'Dashboard layout fails to load on Safari 15 with blank screen', 'Resolution': 'Check browser compatibility for Safari 15 and consider updating to a newer version or checking for known issues in the browser support documentation.'}\n"
     ]
    },
    {
     "data": {
      "application/vnd.jupyter.widget-view+json": {
       "model_id": "6d9b5e86839041dcacbcb7f187c9fcae",
       "version_major": 2,
       "version_minor": 0
      },
      "text/plain": [
       "Loading checkpoint shards:   0%|          | 0/2 [00:00<?, ?it/s]"
      ]
     },
     "metadata": {},
     "output_type": "display_data"
    },
    {
     "name": "stderr",
     "output_type": "stream",
     "text": [
      "Generating Synthetic Data .. :  28%|██▊       | 11/40 [05:52<14:06, 29.20s/it]"
     ]
    },
    {
     "name": "stdout",
     "output_type": "stream",
     "text": [
      "{'Query': \"the dark mode setting resets every time I log in. I’ve tried clearing cookies but no luck. I'm on Firefox on Linux.\", 'Title': 'Dark mode resets on login', 'Browser': 'Firefox', 'OS': 'Linux', 'Customer_Type': 'Individual', 'Issue': 'Dark mode resets after login', 'Resolution': \"Check if system-wide dark mode settings are overriding Firefox's theme and disable any browser extensions that may affect the theme\"}\n"
     ]
    },
    {
     "data": {
      "application/vnd.jupyter.widget-view+json": {
       "model_id": "0ebb158e421448fba3648c751f294dea",
       "version_major": 2,
       "version_minor": 0
      },
      "text/plain": [
       "Loading checkpoint shards:   0%|          | 0/2 [00:00<?, ?it/s]"
      ]
     },
     "metadata": {},
     "output_type": "display_data"
    },
    {
     "name": "stderr",
     "output_type": "stream",
     "text": [
      "Generating Synthetic Data .. :  30%|███       | 12/40 [06:22<13:43, 29.43s/it]"
     ]
    },
    {
     "name": "stdout",
     "output_type": "stream",
     "text": [
      "{'Query': \"our invoices are showing incorrect tax calculations for European customers. VAT isn't being added.\", 'Title': 'Incorrect VAT calculation in invoices for European customers', 'Browser': '', 'OS': '', 'Customer_Type': 'Individual', 'Issue': 'VAT not being added to invoices for European customers', 'Resolution': 'Check and update tax settings to include VAT for European customers'}\n"
     ]
    },
    {
     "data": {
      "application/vnd.jupyter.widget-view+json": {
       "model_id": "9c130865663346cab0e376833055a4e4",
       "version_major": 2,
       "version_minor": 0
      },
      "text/plain": [
       "Loading checkpoint shards:   0%|          | 0/2 [00:00<?, ?it/s]"
      ]
     },
     "metadata": {},
     "output_type": "display_data"
    },
    {
     "name": "stderr",
     "output_type": "stream",
     "text": [
      "Generating Synthetic Data .. :  32%|███▎      | 13/40 [06:55<13:45, 30.58s/it]"
     ]
    },
    {
     "name": "stdout",
     "output_type": "stream",
     "text": [
      "{'Query': \"I'm trying to upgrade our subscription but the payment form keeps timing out. I've tried multiple cards. Using Chrome on Windows 10.\", 'Title': 'Subscription upgrade payment form timeout', 'Browser': 'Chrome (version not specified)', 'OS': 'Windows 10', 'Customer_Type': 'Individual', 'Issue': 'Payment form timeouts during subscription upgrade', 'Resolution': 'Clear browser cache and cookies'}\n"
     ]
    },
    {
     "data": {
      "application/vnd.jupyter.widget-view+json": {
       "model_id": "81fd513de9004a3ca4b4ca5f48f86019",
       "version_major": 2,
       "version_minor": 0
      },
      "text/plain": [
       "Loading checkpoint shards:   0%|          | 0/2 [00:00<?, ?it/s]"
      ]
     },
     "metadata": {},
     "output_type": "display_data"
    },
    {
     "name": "stderr",
     "output_type": "stream",
     "text": [
      "Generating Synthetic Data .. :  35%|███▌      | 14/40 [07:26<13:21, 30.84s/it]"
     ]
    },
    {
     "name": "stdout",
     "output_type": "stream",
     "text": [
      "{'Query': 'we’re seeing delays in real-time notifications—up to 10 minutes sometimes. This impacts our workflow significantly. Any updates? – Operations Team', 'Title': 'Delays in real-time notifications', 'Browser': '', 'OS': '', 'Customer_Type': 'Individual', 'Issue': 'Delays in real-time notifications', 'Resolution': 'Check system logs for real-time notification delays or contact support for further details'}\n"
     ]
    },
    {
     "data": {
      "application/vnd.jupyter.widget-view+json": {
       "model_id": "20a6c4703b8d4abab2a2b3d5724f683d",
       "version_major": 2,
       "version_minor": 0
      },
      "text/plain": [
       "Loading checkpoint shards:   0%|          | 0/2 [00:00<?, ?it/s]"
      ]
     },
     "metadata": {},
     "output_type": "display_data"
    },
    {
     "name": "stderr",
     "output_type": "stream",
     "text": [
      "Generating Synthetic Data .. :  38%|███▊      | 15/40 [07:49<11:45, 28.22s/it]"
     ]
    },
    {
     "name": "stdout",
     "output_type": "stream",
     "text": [
      "{'Query': 'when we export our dashboard to PDF', 'Title': 'PDF export issue: charts missing or cut off', 'Browser': '', 'OS': '', 'Customer_Type': 'Individual', 'Issue': 'Charts missing or cut off during PDF export', 'Resolution': 'Check PDF export settings and ensure that charts are included in the export. Try exporting in a different PDF viewer to see if the issue persists.'}\n"
     ]
    },
    {
     "data": {
      "application/vnd.jupyter.widget-view+json": {
       "model_id": "b4ffdc5bb53447b1a3b1b86f950a9312",
       "version_major": 2,
       "version_minor": 0
      },
      "text/plain": [
       "Loading checkpoint shards:   0%|          | 0/2 [00:00<?, ?it/s]"
      ]
     },
     "metadata": {},
     "output_type": "display_data"
    },
    {
     "name": "stderr",
     "output_type": "stream",
     "text": [
      "Generating Synthetic Data .. :  40%|████      | 16/40 [08:14<10:55, 27.32s/it]"
     ]
    },
    {
     "name": "stdout",
     "output_type": "stream",
     "text": [
      "{'Query': \"I’m using the CLI tool and suddenly getting an 'Authentication failed' message. Token hasn’t changed. What should I do? – Greg\", 'Title': 'Authentication failed with unchanged token in CLI tool', 'Browser': '', 'OS': '', 'Customer_Type': 'Individual', 'Issue': 'Authentication failure with unchanged token in CLI tool', 'Resolution': 'Check if the token is expired or invalid. Try re-authenticating or clearing cached credentials. Verify server-side authentication settings.'}\n"
     ]
    },
    {
     "data": {
      "application/vnd.jupyter.widget-view+json": {
       "model_id": "be21fbfa0f504a39a20a888662e52fa8",
       "version_major": 2,
       "version_minor": 0
      },
      "text/plain": [
       "Loading checkpoint shards:   0%|          | 0/2 [00:00<?, ?it/s]"
      ]
     },
     "metadata": {},
     "output_type": "display_data"
    },
    {
     "name": "stderr",
     "output_type": "stream",
     "text": [
      "Generating Synthetic Data .. :  42%|████▎     | 17/40 [08:51<11:33, 30.15s/it]"
     ]
    },
    {
     "name": "stdout",
     "output_type": "stream",
     "text": [
      "{'Query': \"attachments aren't downloading properly in Safari—they appear as .txt instead of PDFs. This is only happening for some users.\", 'Title': 'Attachments not downloading correctly in Safari', 'Browser': 'Safari', 'OS': '', 'Customer_Type': 'Individual', 'Issue': 'Attachments are displayed as .txt instead of PDFs in Safari.', 'Resolution': \"Check Safari's download settings to ensure PDFs are allowed and try clearing the cache.\"}\n"
     ]
    },
    {
     "data": {
      "application/vnd.jupyter.widget-view+json": {
       "model_id": "5e6e7d8e35754e0f847b8dc87fdf6fb5",
       "version_major": 2,
       "version_minor": 0
      },
      "text/plain": [
       "Loading checkpoint shards:   0%|          | 0/2 [00:00<?, ?it/s]"
      ]
     },
     "metadata": {},
     "output_type": "display_data"
    },
    {
     "name": "stderr",
     "output_type": "stream",
     "text": [
      "Generating Synthetic Data .. :  45%|████▌     | 18/40 [09:17<10:36, 28.91s/it]"
     ]
    },
    {
     "name": "stdout",
     "output_type": "stream",
     "text": [
      "{'Query': 'every time I try to reset my password', 'Title': 'Password reset token expired error', 'Browser': '', 'OS': '', 'Customer_Type': 'Individual', 'Issue': 'Password reset token expired error', 'Resolution': 'Check if the password reset link was clicked immediately and ensure the token is valid. If the issue persists'}\n"
     ]
    },
    {
     "data": {
      "application/vnd.jupyter.widget-view+json": {
       "model_id": "0ba670edc31b4386a933f157c477e702",
       "version_major": 2,
       "version_minor": 0
      },
      "text/plain": [
       "Loading checkpoint shards:   0%|          | 0/2 [00:00<?, ?it/s]"
      ]
     },
     "metadata": {},
     "output_type": "display_data"
    },
    {
     "name": "stderr",
     "output_type": "stream",
     "text": [
      "Generating Synthetic Data .. :  48%|████▊     | 19/40 [09:57<11:20, 32.38s/it]"
     ]
    },
    {
     "name": "stdout",
     "output_type": "stream",
     "text": [
      "{'Query': 'we recently switched to SAML authentication', 'Title': \"SAML Authentication Issue: New Users Getting 'Invalid Assertion' Errors\", 'Browser': '', 'OS': '', 'Customer_Type': 'Enterprise', 'Issue': \"New users are encountering 'invalid assertion' errors after switching to SAML authentication\", 'Resolution': 'Verify SAML configuration'}\n"
     ]
    },
    {
     "data": {
      "application/vnd.jupyter.widget-view+json": {
       "model_id": "87f0b8c42c8e40629ae8f0a23f81335e",
       "version_major": 2,
       "version_minor": 0
      },
      "text/plain": [
       "Loading checkpoint shards:   0%|          | 0/2 [00:00<?, ?it/s]"
      ]
     },
     "metadata": {},
     "output_type": "display_data"
    },
    {
     "name": "stderr",
     "output_type": "stream",
     "text": [
      "Generating Synthetic Data .. :  50%|█████     | 20/40 [10:35<11:18, 33.94s/it]"
     ]
    },
    {
     "name": "stdout",
     "output_type": "stream",
     "text": [
      "{'Query': 'the drag-and-drop upload feature doesn’t work in Firefox but works in Chrome. It just opens the file instead of uploading. Any workaround? – Daniel', 'Title': 'Drag-and-Drop Upload Issue in Firefox', 'Browser': 'Firefox', 'OS': '', 'Customer_Type': 'Developer', 'Issue': 'Drag-and-drop upload feature fails in Firefox', 'Resolution': 'Try clearing browser cache and cookies in Firefox. If issue persists'}\n"
     ]
    },
    {
     "data": {
      "application/vnd.jupyter.widget-view+json": {
       "model_id": "a4425759ea834247b3dd30f87ab0db0a",
       "version_major": 2,
       "version_minor": 0
      },
      "text/plain": [
       "Loading checkpoint shards:   0%|          | 0/2 [00:00<?, ?it/s]"
      ]
     },
     "metadata": {},
     "output_type": "display_data"
    },
    {
     "name": "stderr",
     "output_type": "stream",
     "text": [
      "Generating Synthetic Data .. :  52%|█████▎    | 21/40 [11:09<10:46, 34.02s/it]"
     ]
    },
    {
     "name": "stdout",
     "output_type": "stream",
     "text": [
      "{'Query': 'we can’t delete old projects—clicking delete does nothing. No error message either. Using Edge on Windows', 'Title': 'Project deletion fails in Edge on Windows', 'Browser': 'Edge', 'OS': 'Windows', 'Customer_Type': 'Individual', 'Issue': 'Project deletion fails when clicking delete button', 'Resolution': 'Clear browser cache and try again'}\n"
     ]
    },
    {
     "data": {
      "application/vnd.jupyter.widget-view+json": {
       "model_id": "2fdd8634f2eb456f8c246b9e82a1b5ab",
       "version_major": 2,
       "version_minor": 0
      },
      "text/plain": [
       "Loading checkpoint shards:   0%|          | 0/2 [00:00<?, ?it/s]"
      ]
     },
     "metadata": {},
     "output_type": "display_data"
    },
    {
     "name": "stderr",
     "output_type": "stream",
     "text": [
      "Generating Synthetic Data .. :  55%|█████▌    | 22/40 [11:35<09:28, 31.57s/it]"
     ]
    },
    {
     "name": "stdout",
     "output_type": "stream",
     "text": [
      "{'Query': \"I'm getting logged out randomly while working. It’s disrupting my work. Session timeout setting? – Omar\", 'Title': 'Random login logout due to session timeout', 'Browser': '', 'OS': '', 'Customer_Type': 'Individual', 'Issue': 'Random login logout due to session timeout', 'Resolution': 'Check and adjust the session timeout settings in your account or system configuration'}\n"
     ]
    },
    {
     "data": {
      "application/vnd.jupyter.widget-view+json": {
       "model_id": "76f81ccb88484a7a8fb4383c55ebb7cd",
       "version_major": 2,
       "version_minor": 0
      },
      "text/plain": [
       "Loading checkpoint shards:   0%|          | 0/2 [00:00<?, ?it/s]"
      ]
     },
     "metadata": {},
     "output_type": "display_data"
    },
    {
     "name": "stderr",
     "output_type": "stream",
     "text": [
      "Generating Synthetic Data .. :  57%|█████▊    | 23/40 [12:15<09:41, 34.23s/it]"
     ]
    },
    {
     "name": "stdout",
     "output_type": "stream",
     "text": [
      "{'Query': 'the app is stuck on a loading spinner after login. Happens on Android 13. Works fine on iOS. Any updates? – Beta Tester', 'Title': 'App loading spinner stuck after login on Android 13', 'Browser': 'Android 13', 'OS': 'Android', 'Customer_Type': 'Beta Tester', 'Issue': 'App is stuck on loading spinner after login on Android 13', 'Resolution': 'Check for app updates and ensure the device is running the latest Android OS version'}\n"
     ]
    },
    {
     "data": {
      "application/vnd.jupyter.widget-view+json": {
       "model_id": "4db39b88b2654493bb6d9d59ac48ee6c",
       "version_major": 2,
       "version_minor": 0
      },
      "text/plain": [
       "Loading checkpoint shards:   0%|          | 0/2 [00:00<?, ?it/s]"
      ]
     },
     "metadata": {},
     "output_type": "display_data"
    },
    {
     "name": "stderr",
     "output_type": "stream",
     "text": [
      "Generating Synthetic Data .. :  60%|██████    | 24/40 [12:39<08:17, 31.10s/it]"
     ]
    },
    {
     "name": "stdout",
     "output_type": "stream",
     "text": [
      "{'Query': 'Our webhook endpoint isn’t receiving payloads. Nothing in our logs. Can you check if they’re being sent from your side? Thanks', 'Title': 'Webhook endpoint not receiving payloads', 'Browser': '', 'OS': '', 'Customer_Type': 'Individual', 'Issue': 'Webhook endpoint not receiving payloads', 'Resolution': 'Verify webhook URL configuration and check server logs on the other side for payload transmission details'}\n"
     ]
    },
    {
     "data": {
      "application/vnd.jupyter.widget-view+json": {
       "model_id": "2b68911735fa4b74835ae7e158dacbc4",
       "version_major": 2,
       "version_minor": 0
      },
      "text/plain": [
       "Loading checkpoint shards:   0%|          | 0/2 [00:00<?, ?it/s]"
      ]
     },
     "metadata": {},
     "output_type": "display_data"
    },
    {
     "name": "stderr",
     "output_type": "stream",
     "text": [
      "Generating Synthetic Data .. :  62%|██████▎   | 25/40 [13:04<07:18, 29.25s/it]"
     ]
    },
    {
     "name": "stdout",
     "output_type": "stream",
     "text": [
      "{'Query': \"scheduled reports aren't being sent via email. They show as 'Delivered' in the UI but never arrive.\", 'Title': 'Scheduled reports not arriving via email despite marked as delivered', 'Browser': '', 'OS': '', 'Customer_Type': 'Individual', 'Issue': 'Scheduled reports not arriving via email despite marked as delivered', 'Resolution': 'Check email server settings and verify that the report delivery configuration is correct'}\n"
     ]
    },
    {
     "data": {
      "application/vnd.jupyter.widget-view+json": {
       "model_id": "6dabd16b214346d7a2616784891d2704",
       "version_major": 2,
       "version_minor": 0
      },
      "text/plain": [
       "Loading checkpoint shards:   0%|          | 0/2 [00:00<?, ?it/s]"
      ]
     },
     "metadata": {},
     "output_type": "display_data"
    },
    {
     "name": "stderr",
     "output_type": "stream",
     "text": [
      "Generating Synthetic Data .. :  65%|██████▌   | 26/40 [13:36<06:59, 30.00s/it]"
     ]
    },
    {
     "name": "stdout",
     "output_type": "stream",
     "text": [
      "{'Query': \"I just tried uploading a logo in our profile settings and received 'Unsupported file format'—but it's a PNG.\", 'Title': \"Logo upload fails with 'Unsupported file format' error\", 'Browser': '', 'OS': '', 'Customer_Type': 'Individual', 'Issue': \"Logo upload fails with 'Unsupported file format' error\", 'Resolution': 'Check if the server settings allow PNG file uploads and ensure the file is correctly formatted.'}\n"
     ]
    },
    {
     "data": {
      "application/vnd.jupyter.widget-view+json": {
       "model_id": "f7173948df9c43fea4aa913d4c2656f7",
       "version_major": 2,
       "version_minor": 0
      },
      "text/plain": [
       "Loading checkpoint shards:   0%|          | 0/2 [00:00<?, ?it/s]"
      ]
     },
     "metadata": {},
     "output_type": "display_data"
    },
    {
     "name": "stderr",
     "output_type": "stream",
     "text": [
      "Generating Synthetic Data .. :  68%|██████▊   | 27/40 [14:10<06:46, 31.27s/it]"
     ]
    },
    {
     "name": "stdout",
     "output_type": "stream",
     "text": [
      "{'Query': 'Hey', 'Title': 'E-signature signing fails for legal documents', 'Browser': '', 'OS': '', 'Customer_Type': 'Individual', 'Issue': 'E-signature signing fails for legal documents', 'Resolution': 'Verify e-signature settings and ensure the document is correctly formatted for signing'}\n"
     ]
    },
    {
     "data": {
      "application/vnd.jupyter.widget-view+json": {
       "model_id": "d83c64b05ca94ff4a9e9e2cc7e014999",
       "version_major": 2,
       "version_minor": 0
      },
      "text/plain": [
       "Loading checkpoint shards:   0%|          | 0/2 [00:00<?, ?it/s]"
      ]
     },
     "metadata": {},
     "output_type": "display_data"
    },
    {
     "name": "stderr",
     "output_type": "stream",
     "text": [
      "Generating Synthetic Data .. :  70%|███████   | 28/40 [15:02<07:30, 37.51s/it]"
     ]
    },
    {
     "name": "stdout",
     "output_type": "stream",
     "text": [
      "{'Query': 'auto-save is not working in the editor anymore. We’ve lost work due to this. Using Chrome on Windows 10.', 'Title': 'Auto-save functionality not working in editor causing data loss', 'Browser': 'Chrome', 'OS': 'Windows 10', 'Customer_Type': 'Individual', 'Issue': 'Auto-save is not working in the editor anymore. We’ve lost work due to this.', 'Resolution': 'Clear browser cache and cookies'}\n"
     ]
    },
    {
     "data": {
      "application/vnd.jupyter.widget-view+json": {
       "model_id": "430501b67d2042069cee88ef484fb4db",
       "version_major": 2,
       "version_minor": 0
      },
      "text/plain": [
       "Loading checkpoint shards:   0%|          | 0/2 [00:00<?, ?it/s]"
      ]
     },
     "metadata": {},
     "output_type": "display_data"
    },
    {
     "name": "stderr",
     "output_type": "stream",
     "text": [
      "Generating Synthetic Data .. :  72%|███████▎  | 29/40 [15:30<06:21, 34.68s/it]"
     ]
    },
    {
     "name": "stdout",
     "output_type": "stream",
     "text": [
      "{'Query': \"we're seeing duplicated records after importing contacts. Can you prevent duplicates based on email ID? – CRM Admin\", 'Title': 'Duplicate records during contact import based on email ID', 'Browser': '', 'OS': '', 'Customer_Type': 'Individual', 'Issue': 'Duplicate records after importing contacts based on email ID', 'Resolution': 'Configure the import settings to check for existing email IDs and prevent duplicates'}\n"
     ]
    },
    {
     "data": {
      "application/vnd.jupyter.widget-view+json": {
       "model_id": "5267f5447b0f46f3bfaf5f31aae3dcad",
       "version_major": 2,
       "version_minor": 0
      },
      "text/plain": [
       "Loading checkpoint shards:   0%|          | 0/2 [00:00<?, ?it/s]"
      ]
     },
     "metadata": {},
     "output_type": "display_data"
    },
    {
     "name": "stderr",
     "output_type": "stream",
     "text": [
      "Generating Synthetic Data .. :  75%|███████▌  | 30/40 [15:56<05:19, 31.96s/it]"
     ]
    },
    {
     "name": "stdout",
     "output_type": "stream",
     "text": [
      "{'Query': 'the analytics widget isn’t updating in real-time—it shows data from yesterday only. Any known issue?', 'Title': 'Analytics widget not updating in real-time', 'Browser': '', 'OS': '', 'Customer_Type': 'Individual', 'Issue': 'Analytics widget shows data from yesterday instead of real-time updates', 'Resolution': 'Check if the widget is updated or contact support for further assistance'}\n"
     ]
    },
    {
     "data": {
      "application/vnd.jupyter.widget-view+json": {
       "model_id": "3123846e0d7d4cf6ae0b2c7613e427e6",
       "version_major": 2,
       "version_minor": 0
      },
      "text/plain": [
       "Loading checkpoint shards:   0%|          | 0/2 [00:00<?, ?it/s]"
      ]
     },
     "metadata": {},
     "output_type": "display_data"
    },
    {
     "name": "stderr",
     "output_type": "stream",
     "text": [
      "Generating Synthetic Data .. :  78%|███████▊  | 31/40 [16:17<04:19, 28.87s/it]"
     ]
    },
    {
     "name": "stdout",
     "output_type": "stream",
     "text": [
      "{'Query': 'the custom domain setup for our portal fails at the SSL verification step. Using Cloudflare for DNS. Please help. – IT Admin', 'Title': 'SSL verification failure during custom domain setup with Cloudflare', 'Browser': '', 'OS': '', 'Customer_Type': 'Individual', 'Issue': 'SSL verification fails during custom domain setup with Cloudflare', 'Resolution': 'Verify Cloudflare SSL/TLS settings'}\n"
     ]
    },
    {
     "data": {
      "application/vnd.jupyter.widget-view+json": {
       "model_id": "087792df9e1d4bd4ac336dc158f4b101",
       "version_major": 2,
       "version_minor": 0
      },
      "text/plain": [
       "Loading checkpoint shards:   0%|          | 0/2 [00:00<?, ?it/s]"
      ]
     },
     "metadata": {},
     "output_type": "display_data"
    },
    {
     "name": "stderr",
     "output_type": "stream",
     "text": [
      "Generating Synthetic Data .. :  80%|████████  | 32/40 [17:03<04:30, 33.86s/it]"
     ]
    },
    {
     "name": "stdout",
     "output_type": "stream",
     "text": [
      "{'Query': \"We’re getting 'Unknown error' when trying to submit forms on iPads running iPadOS 17. Worked before. Fix? – Front Desk\", 'Title': 'Unknown error on iPadOS 17 form submission', 'Browser': 'iPadOS 17', 'OS': 'iPadOS 17', 'Customer_Type': 'Individual', 'Issue': 'Unknown error when submitting forms on iPadOS 17', 'Resolution': 'Check for iPadOS updates and clear browser cache if using Safari'}\n"
     ]
    },
    {
     "data": {
      "application/vnd.jupyter.widget-view+json": {
       "model_id": "1de7dafbfc404c33ab1bd9791d760f06",
       "version_major": 2,
       "version_minor": 0
      },
      "text/plain": [
       "Loading checkpoint shards:   0%|          | 0/2 [00:00<?, ?it/s]"
      ]
     },
     "metadata": {},
     "output_type": "display_data"
    },
    {
     "name": "stderr",
     "output_type": "stream",
     "text": [
      "Generating Synthetic Data .. :  82%|████████▎ | 33/40 [17:49<04:22, 37.55s/it]"
     ]
    },
    {
     "name": "stdout",
     "output_type": "stream",
     "text": [
      "{'Query': 'when I create a new user group', 'Title': 'User group permissions not saving correctly leading to full access', 'Browser': '', 'OS': '', 'Customer_Type': 'Individual', 'Issue': 'Permissions not saving correctly leading to full access', 'Resolution': 'Check and verify that the user group permissions are correctly assigned and saved in the system. If not'}\n"
     ]
    },
    {
     "data": {
      "application/vnd.jupyter.widget-view+json": {
       "model_id": "339ccaa4c250402c873cc9b015404912",
       "version_major": 2,
       "version_minor": 0
      },
      "text/plain": [
       "Loading checkpoint shards:   0%|          | 0/2 [00:00<?, ?it/s]"
      ]
     },
     "metadata": {},
     "output_type": "display_data"
    },
    {
     "name": "stderr",
     "output_type": "stream",
     "text": [
      "Generating Synthetic Data .. :  85%|████████▌ | 34/40 [18:18<03:29, 34.87s/it]"
     ]
    },
    {
     "name": "stdout",
     "output_type": "stream",
     "text": [
      "{'Query': 'your widget causes layout shifts on our site when it loads. Can we delay or async-load it? – Frontend Dev', 'Title': 'Layout shifts caused by widget loading', 'Browser': '', 'OS': '', 'Customer_Type': 'Developer', 'Issue': 'Layout shifts occur when widget is loaded', 'Resolution': \"Implement async or defer the widget's loading to prevent layout shifts\"}\n"
     ]
    },
    {
     "data": {
      "application/vnd.jupyter.widget-view+json": {
       "model_id": "c4eb944188c7497b97a447ee9b4493fb",
       "version_major": 2,
       "version_minor": 0
      },
      "text/plain": [
       "Loading checkpoint shards:   0%|          | 0/2 [00:00<?, ?it/s]"
      ]
     },
     "metadata": {},
     "output_type": "display_data"
    },
    {
     "name": "stderr",
     "output_type": "stream",
     "text": [
      "Generating Synthetic Data .. :  88%|████████▊ | 35/40 [18:44<02:41, 32.26s/it]"
     ]
    },
    {
     "name": "stdout",
     "output_type": "stream",
     "text": [
      "{'Query': \"our backups to Dropbox failed with a 'Token revoked' error. We didn’t change anything. How can we reconnect safely? – IT Ops\", 'Title': 'Dropbox Backup Token Revoked Error', 'Browser': '', 'OS': '', 'Customer_Type': 'Enterprise', 'Issue': \"Backup failed with 'Token revoked' error\", 'Resolution': 'Re-authenticate with Dropbox to resolve the token revoked error'}\n"
     ]
    },
    {
     "data": {
      "application/vnd.jupyter.widget-view+json": {
       "model_id": "babfe5794366429ead85897133810347",
       "version_major": 2,
       "version_minor": 0
      },
      "text/plain": [
       "Loading checkpoint shards:   0%|          | 0/2 [00:00<?, ?it/s]"
      ]
     },
     "metadata": {},
     "output_type": "display_data"
    },
    {
     "name": "stderr",
     "output_type": "stream",
     "text": [
      "Generating Synthetic Data .. :  90%|█████████ | 36/40 [19:08<01:59, 29.96s/it]"
     ]
    },
    {
     "name": "stdout",
     "output_type": "stream",
     "text": [
      "{'Query': 'we integrated your app with Slack but messages are delayed or missing. Webhook retries? – Product Team', 'Title': 'Slack integration messages delayed or missing with webhook retries', 'Browser': '', 'OS': '', 'Customer_Type': 'Enterprise', 'Issue': 'Delayed or missing Slack messages with webhook retries', 'Resolution': 'Verify webhook retry settings in Slack app configuration and ensure proper integration'}\n"
     ]
    },
    {
     "data": {
      "application/vnd.jupyter.widget-view+json": {
       "model_id": "4de4b8a85b7143c7b649aa973b644344",
       "version_major": 2,
       "version_minor": 0
      },
      "text/plain": [
       "Loading checkpoint shards:   0%|          | 0/2 [00:00<?, ?it/s]"
      ]
     },
     "metadata": {},
     "output_type": "display_data"
    },
    {
     "name": "stderr",
     "output_type": "stream",
     "text": [
      "Generating Synthetic Data .. :  92%|█████████▎| 37/40 [19:35<01:27, 29.12s/it]"
     ]
    },
    {
     "name": "stdout",
     "output_type": "stream",
     "text": [
      "{'Query': 'I’m using Brave browser and the login page doesn’t load—it’s just blank. Any compatibility issues?', 'Title': 'Login page not loading in Brave browser', 'Browser': 'Brave', 'OS': '', 'Customer_Type': 'Individual', 'Issue': 'Login page fails to load with blank screen', 'Resolution': 'Check for browser updates and disable any conflicting extensions'}\n"
     ]
    },
    {
     "data": {
      "application/vnd.jupyter.widget-view+json": {
       "model_id": "60d51ad5b7e2446eabde5ba76cc875b1",
       "version_major": 2,
       "version_minor": 0
      },
      "text/plain": [
       "Loading checkpoint shards:   0%|          | 0/2 [00:00<?, ?it/s]"
      ]
     },
     "metadata": {},
     "output_type": "display_data"
    },
    {
     "name": "stderr",
     "output_type": "stream",
     "text": [
      "Generating Synthetic Data .. :  95%|█████████▌| 38/40 [20:07<00:59, 29.82s/it]"
     ]
    },
    {
     "name": "stdout",
     "output_type": "stream",
     "text": [
      "{'Query': 'when exporting a CSV report', 'Title': 'CSV export formatting issue with commas in text fields', 'Browser': '', 'OS': '', 'Customer_Type': 'Developer', 'Issue': 'Commas in text fields cause CSV export formatting issues', 'Resolution': 'Wrap fields in quotes when exporting CSV to prevent comma issues'}\n"
     ]
    },
    {
     "data": {
      "application/vnd.jupyter.widget-view+json": {
       "model_id": "a5c20d5255ec406898cac16e43bd5f7c",
       "version_major": 2,
       "version_minor": 0
      },
      "text/plain": [
       "Loading checkpoint shards:   0%|          | 0/2 [00:00<?, ?it/s]"
      ]
     },
     "metadata": {},
     "output_type": "display_data"
    },
    {
     "name": "stderr",
     "output_type": "stream",
     "text": [
      "Generating Synthetic Data .. :  98%|█████████▊| 39/40 [20:43<00:31, 31.67s/it]"
     ]
    },
    {
     "name": "stdout",
     "output_type": "stream",
     "text": [
      "{'Query': 'We tried sending a bulk invite to users but only some received the email. We’re using the admin console. Why?', 'Title': 'Bulk invite not reaching all users in admin console', 'Browser': '', 'OS': '', 'Customer_Type': 'Enterprise', 'Issue': 'Bulk invite not reaching all users in admin console', 'Resolution': 'Check email server settings and verify recipient list for bulk invites'}\n"
     ]
    },
    {
     "data": {
      "application/vnd.jupyter.widget-view+json": {
       "model_id": "d73f4c92cb2d425297ffd0e7ed642b9a",
       "version_major": 2,
       "version_minor": 0
      },
      "text/plain": [
       "Loading checkpoint shards:   0%|          | 0/2 [00:00<?, ?it/s]"
      ]
     },
     "metadata": {},
     "output_type": "display_data"
    },
    {
     "name": "stderr",
     "output_type": "stream",
     "text": [
      "Generating Synthetic Data .. : 100%|██████████| 40/40 [21:07<00:00, 31.68s/it]"
     ]
    },
    {
     "name": "stdout",
     "output_type": "stream",
     "text": [
      "{'Query': 'I accidentally deleted an important workspace. Is there a way to restore it? It happened an hour ago. – Maria', 'Title': 'Workspace deletion and restoration request', 'Browser': '', 'OS': '', 'Customer_Type': 'Individual', 'Issue': 'Accidental deletion of workspace and need to restore it', 'Resolution': 'Check if a backup exists and restore it'}\n"
     ]
    },
    {
     "name": "stderr",
     "output_type": "stream",
     "text": [
      "\n"
     ]
    }
   ],
   "source": [
    "synthetic_data = []\n",
    "for query in tqdm(queries_dataset, desc = \"Generating Synthetic Data .. \"):\n",
    "    data = generate_synthetic_dataset(query)\n",
    "    print(data)\n",
    "    synthetic_data.append(data)  "
   ]
  },
  {
   "cell_type": "code",
   "execution_count": 8,
   "id": "49976822",
   "metadata": {},
   "outputs": [
    {
     "data": {
      "text/plain": [
       "[{'Query': \"I'm unable to generate reports from the dashboard. The button remains greyed out even after selecting all the required filters. This happens on Chrome on macOS Sonoma.\",\n",
       "  'Title': 'Dashboard report generation button is greyed out after applying filters',\n",
       "  'Browser': 'Chrome',\n",
       "  'OS': 'macOS Sonoma',\n",
       "  'Customer_Type': 'Individual',\n",
       "  'Issue': 'Dashboard report generation button remains greyed out after applying filters',\n",
       "  'Resolution': 'Clear browser cache and cookies'},\n",
       " {'Query': \"Our team can't access shared folders anymore. We keep getting a 'Permission Denied' error\",\n",
       "  'Title': 'Shared folder access denied error on Firefox on Windows 10',\n",
       "  'Browser': 'Firefox',\n",
       "  'OS': 'Windows 10',\n",
       "  'Customer_Type': 'Enterprise',\n",
       "  'Issue': 'Permission denied error when accessing shared folders despite no role changes',\n",
       "  'Resolution': 'Check firewall settings and ensure the shared folder permissions are correctly configured'},\n",
       " {'Query': \"The mobile app crashes on launch for Android 14 users. It briefly shows the splash screen then closes. We've tried reinstalling. Help? – Dev Team\",\n",
       "  'Title': 'Mobile app crashes on launch for Android 14 users',\n",
       "  'Browser': '',\n",
       "  'OS': 'Android 14',\n",
       "  'Customer_Type': 'Developer',\n",
       "  'Issue': 'Mobile app crashes on launch for Android 14 users',\n",
       "  'Resolution': 'Check for app updates and ensure the device is compatible with Android 14. If the issue persists'},\n",
       " {'Query': \"Emails from your system are being flagged as spam by Gmail. We're missing important notifications. Can you adjust the sending domain or SPF records? Thanks\",\n",
       "  'Title': 'Email spam flagging and notification issues',\n",
       "  'Browser': '',\n",
       "  'OS': '',\n",
       "  'Customer_Type': 'Individual',\n",
       "  'Issue': 'Emails flagged as spam by Gmail leading to missing notifications',\n",
       "  'Resolution': \"Check and update SPF records or adjust the sending domain settings in Gmail's spam filtering settings\"},\n",
       " {'Query': 'I’m seeing a 502 Bad Gateway error when trying to access our billing page. This happens in Safari on iOS 17.',\n",
       "  'Title': 'Billing page fails with 502 Bad Gateway error in Safari on iOS 17',\n",
       "  'Browser': 'Safari iOS 17',\n",
       "  'OS': 'iOS 17',\n",
       "  'Customer_Type': 'Individual',\n",
       "  'Issue': '502 Bad Gateway error when accessing billing page in Safari on iOS 17',\n",
       "  'Resolution': 'Check server logs and ensure the billing service is running correctly. Verify if there are any known issues with the billing page or server configuration.'},\n",
       " {'Query': \"we tried importing our user data via CSV but keep getting 'Invalid file format' even though it follows the template.\",\n",
       "  'Title': 'CSV import failure with invalid format',\n",
       "  'Browser': 'Edge',\n",
       "  'OS': 'Windows 11',\n",
       "  'Customer_Type': 'Individual',\n",
       "  'Issue': 'CSV file format error despite following the template',\n",
       "  'Resolution': 'Verify file encoding (UTF-8 or UTF-16) and check for missing commas or incorrect delimiters in the CSV'},\n",
       " {'Query': \"I noticed the time tracking widget is not syncing with our calendar anymore. We're using Google Calendar integration. This started last week. Help appreciated! – Camille\",\n",
       "  'Title': 'Time tracking widget not syncing with Google Calendar',\n",
       "  'Browser': '',\n",
       "  'OS': '',\n",
       "  'Customer_Type': 'Individual',\n",
       "  'Issue': 'Time tracking widget not syncing with Google Calendar',\n",
       "  'Resolution': \"Check the Google Calendar integration settings in the time tracking tool and ensure it's properly configured\"},\n",
       " {'Query': \"we just onboarded a new employee but they’re stuck at the 'Verify your email' step. They never get the email. We've checked spam and firewall.\",\n",
       "  'Title': 'Email verification failure for new employee',\n",
       "  'Browser': '',\n",
       "  'OS': '',\n",
       "  'Customer_Type': 'Individual',\n",
       "  'Issue': 'Email verification failure for new employee',\n",
       "  'Resolution': \"Check if the email was sent to the correct address and ensure the employee is checking their inbox. Verify email settings and confirm the employee's account is properly configured.\"},\n",
       " {'Query': \"Our API calls are failing with a 403 error since yesterday. Our API key hasn't changed. Could it be rate limiting or permission-related?\",\n",
       "  'Title': 'API 403 error due to rate limiting or permissions',\n",
       "  'Browser': '',\n",
       "  'OS': '',\n",
       "  'Customer_Type': 'Developer',\n",
       "  'Issue': '403 error during API calls',\n",
       "  'Resolution': 'Check API rate limits and verify API key permissions. Ensure the API key is valid and has the necessary access rights.'},\n",
       " {'Query': 'The new dashboard layout doesn’t load on Safari 15. It shows a blank screen. Other browsers work fine. Is this a known issue? – Michael',\n",
       "  'Title': 'Dashboard layout fails to load on Safari 15 with blank screen',\n",
       "  'Browser': 'Safari 15',\n",
       "  'OS': '',\n",
       "  'Customer_Type': 'Individual',\n",
       "  'Issue': 'Dashboard layout fails to load on Safari 15 with blank screen',\n",
       "  'Resolution': 'Check browser compatibility for Safari 15 and consider updating to a newer version or checking for known issues in the browser support documentation.'},\n",
       " {'Query': \"the dark mode setting resets every time I log in. I’ve tried clearing cookies but no luck. I'm on Firefox on Linux.\",\n",
       "  'Title': 'Dark mode resets on login',\n",
       "  'Browser': 'Firefox',\n",
       "  'OS': 'Linux',\n",
       "  'Customer_Type': 'Individual',\n",
       "  'Issue': 'Dark mode resets after login',\n",
       "  'Resolution': \"Check if system-wide dark mode settings are overriding Firefox's theme and disable any browser extensions that may affect the theme\"},\n",
       " {'Query': \"our invoices are showing incorrect tax calculations for European customers. VAT isn't being added.\",\n",
       "  'Title': 'Incorrect VAT calculation in invoices for European customers',\n",
       "  'Browser': '',\n",
       "  'OS': '',\n",
       "  'Customer_Type': 'Individual',\n",
       "  'Issue': 'VAT not being added to invoices for European customers',\n",
       "  'Resolution': 'Check and update tax settings to include VAT for European customers'},\n",
       " {'Query': \"I'm trying to upgrade our subscription but the payment form keeps timing out. I've tried multiple cards. Using Chrome on Windows 10.\",\n",
       "  'Title': 'Subscription upgrade payment form timeout',\n",
       "  'Browser': 'Chrome (version not specified)',\n",
       "  'OS': 'Windows 10',\n",
       "  'Customer_Type': 'Individual',\n",
       "  'Issue': 'Payment form timeouts during subscription upgrade',\n",
       "  'Resolution': 'Clear browser cache and cookies'},\n",
       " {'Query': 'we’re seeing delays in real-time notifications—up to 10 minutes sometimes. This impacts our workflow significantly. Any updates? – Operations Team',\n",
       "  'Title': 'Delays in real-time notifications',\n",
       "  'Browser': '',\n",
       "  'OS': '',\n",
       "  'Customer_Type': 'Individual',\n",
       "  'Issue': 'Delays in real-time notifications',\n",
       "  'Resolution': 'Check system logs for real-time notification delays or contact support for further details'},\n",
       " {'Query': 'when we export our dashboard to PDF',\n",
       "  'Title': 'PDF export issue: charts missing or cut off',\n",
       "  'Browser': '',\n",
       "  'OS': '',\n",
       "  'Customer_Type': 'Individual',\n",
       "  'Issue': 'Charts missing or cut off during PDF export',\n",
       "  'Resolution': 'Check PDF export settings and ensure that charts are included in the export. Try exporting in a different PDF viewer to see if the issue persists.'},\n",
       " {'Query': \"I’m using the CLI tool and suddenly getting an 'Authentication failed' message. Token hasn’t changed. What should I do? – Greg\",\n",
       "  'Title': 'Authentication failed with unchanged token in CLI tool',\n",
       "  'Browser': '',\n",
       "  'OS': '',\n",
       "  'Customer_Type': 'Individual',\n",
       "  'Issue': 'Authentication failure with unchanged token in CLI tool',\n",
       "  'Resolution': 'Check if the token is expired or invalid. Try re-authenticating or clearing cached credentials. Verify server-side authentication settings.'},\n",
       " {'Query': \"attachments aren't downloading properly in Safari—they appear as .txt instead of PDFs. This is only happening for some users.\",\n",
       "  'Title': 'Attachments not downloading correctly in Safari',\n",
       "  'Browser': 'Safari',\n",
       "  'OS': '',\n",
       "  'Customer_Type': 'Individual',\n",
       "  'Issue': 'Attachments are displayed as .txt instead of PDFs in Safari.',\n",
       "  'Resolution': \"Check Safari's download settings to ensure PDFs are allowed and try clearing the cache.\"},\n",
       " {'Query': 'every time I try to reset my password',\n",
       "  'Title': 'Password reset token expired error',\n",
       "  'Browser': '',\n",
       "  'OS': '',\n",
       "  'Customer_Type': 'Individual',\n",
       "  'Issue': 'Password reset token expired error',\n",
       "  'Resolution': 'Check if the password reset link was clicked immediately and ensure the token is valid. If the issue persists'},\n",
       " {'Query': 'we recently switched to SAML authentication',\n",
       "  'Title': \"SAML Authentication Issue: New Users Getting 'Invalid Assertion' Errors\",\n",
       "  'Browser': '',\n",
       "  'OS': '',\n",
       "  'Customer_Type': 'Enterprise',\n",
       "  'Issue': \"New users are encountering 'invalid assertion' errors after switching to SAML authentication\",\n",
       "  'Resolution': 'Verify SAML configuration'},\n",
       " {'Query': 'the drag-and-drop upload feature doesn’t work in Firefox but works in Chrome. It just opens the file instead of uploading. Any workaround? – Daniel',\n",
       "  'Title': 'Drag-and-Drop Upload Issue in Firefox',\n",
       "  'Browser': 'Firefox',\n",
       "  'OS': '',\n",
       "  'Customer_Type': 'Developer',\n",
       "  'Issue': 'Drag-and-drop upload feature fails in Firefox',\n",
       "  'Resolution': 'Try clearing browser cache and cookies in Firefox. If issue persists'},\n",
       " {'Query': 'we can’t delete old projects—clicking delete does nothing. No error message either. Using Edge on Windows',\n",
       "  'Title': 'Project deletion fails in Edge on Windows',\n",
       "  'Browser': 'Edge',\n",
       "  'OS': 'Windows',\n",
       "  'Customer_Type': 'Individual',\n",
       "  'Issue': 'Project deletion fails when clicking delete button',\n",
       "  'Resolution': 'Clear browser cache and try again'},\n",
       " {'Query': \"I'm getting logged out randomly while working. It’s disrupting my work. Session timeout setting? – Omar\",\n",
       "  'Title': 'Random login logout due to session timeout',\n",
       "  'Browser': '',\n",
       "  'OS': '',\n",
       "  'Customer_Type': 'Individual',\n",
       "  'Issue': 'Random login logout due to session timeout',\n",
       "  'Resolution': 'Check and adjust the session timeout settings in your account or system configuration'},\n",
       " {'Query': 'the app is stuck on a loading spinner after login. Happens on Android 13. Works fine on iOS. Any updates? – Beta Tester',\n",
       "  'Title': 'App loading spinner stuck after login on Android 13',\n",
       "  'Browser': 'Android 13',\n",
       "  'OS': 'Android',\n",
       "  'Customer_Type': 'Beta Tester',\n",
       "  'Issue': 'App is stuck on loading spinner after login on Android 13',\n",
       "  'Resolution': 'Check for app updates and ensure the device is running the latest Android OS version'},\n",
       " {'Query': 'Our webhook endpoint isn’t receiving payloads. Nothing in our logs. Can you check if they’re being sent from your side? Thanks',\n",
       "  'Title': 'Webhook endpoint not receiving payloads',\n",
       "  'Browser': '',\n",
       "  'OS': '',\n",
       "  'Customer_Type': 'Individual',\n",
       "  'Issue': 'Webhook endpoint not receiving payloads',\n",
       "  'Resolution': 'Verify webhook URL configuration and check server logs on the other side for payload transmission details'},\n",
       " {'Query': \"scheduled reports aren't being sent via email. They show as 'Delivered' in the UI but never arrive.\",\n",
       "  'Title': 'Scheduled reports not arriving via email despite marked as delivered',\n",
       "  'Browser': '',\n",
       "  'OS': '',\n",
       "  'Customer_Type': 'Individual',\n",
       "  'Issue': 'Scheduled reports not arriving via email despite marked as delivered',\n",
       "  'Resolution': 'Check email server settings and verify that the report delivery configuration is correct'},\n",
       " {'Query': \"I just tried uploading a logo in our profile settings and received 'Unsupported file format'—but it's a PNG.\",\n",
       "  'Title': \"Logo upload fails with 'Unsupported file format' error\",\n",
       "  'Browser': '',\n",
       "  'OS': '',\n",
       "  'Customer_Type': 'Individual',\n",
       "  'Issue': \"Logo upload fails with 'Unsupported file format' error\",\n",
       "  'Resolution': 'Check if the server settings allow PNG file uploads and ensure the file is correctly formatted.'},\n",
       " {'Query': 'Hey',\n",
       "  'Title': 'E-signature signing fails for legal documents',\n",
       "  'Browser': '',\n",
       "  'OS': '',\n",
       "  'Customer_Type': 'Individual',\n",
       "  'Issue': 'E-signature signing fails for legal documents',\n",
       "  'Resolution': 'Verify e-signature settings and ensure the document is correctly formatted for signing'},\n",
       " {'Query': 'auto-save is not working in the editor anymore. We’ve lost work due to this. Using Chrome on Windows 10.',\n",
       "  'Title': 'Auto-save functionality not working in editor causing data loss',\n",
       "  'Browser': 'Chrome',\n",
       "  'OS': 'Windows 10',\n",
       "  'Customer_Type': 'Individual',\n",
       "  'Issue': 'Auto-save is not working in the editor anymore. We’ve lost work due to this.',\n",
       "  'Resolution': 'Clear browser cache and cookies'},\n",
       " {'Query': \"we're seeing duplicated records after importing contacts. Can you prevent duplicates based on email ID? – CRM Admin\",\n",
       "  'Title': 'Duplicate records during contact import based on email ID',\n",
       "  'Browser': '',\n",
       "  'OS': '',\n",
       "  'Customer_Type': 'Individual',\n",
       "  'Issue': 'Duplicate records after importing contacts based on email ID',\n",
       "  'Resolution': 'Configure the import settings to check for existing email IDs and prevent duplicates'},\n",
       " {'Query': 'the analytics widget isn’t updating in real-time—it shows data from yesterday only. Any known issue?',\n",
       "  'Title': 'Analytics widget not updating in real-time',\n",
       "  'Browser': '',\n",
       "  'OS': '',\n",
       "  'Customer_Type': 'Individual',\n",
       "  'Issue': 'Analytics widget shows data from yesterday instead of real-time updates',\n",
       "  'Resolution': 'Check if the widget is updated or contact support for further assistance'},\n",
       " {'Query': 'the custom domain setup for our portal fails at the SSL verification step. Using Cloudflare for DNS. Please help. – IT Admin',\n",
       "  'Title': 'SSL verification failure during custom domain setup with Cloudflare',\n",
       "  'Browser': '',\n",
       "  'OS': '',\n",
       "  'Customer_Type': 'Individual',\n",
       "  'Issue': 'SSL verification fails during custom domain setup with Cloudflare',\n",
       "  'Resolution': 'Verify Cloudflare SSL/TLS settings'},\n",
       " {'Query': \"We’re getting 'Unknown error' when trying to submit forms on iPads running iPadOS 17. Worked before. Fix? – Front Desk\",\n",
       "  'Title': 'Unknown error on iPadOS 17 form submission',\n",
       "  'Browser': 'iPadOS 17',\n",
       "  'OS': 'iPadOS 17',\n",
       "  'Customer_Type': 'Individual',\n",
       "  'Issue': 'Unknown error when submitting forms on iPadOS 17',\n",
       "  'Resolution': 'Check for iPadOS updates and clear browser cache if using Safari'},\n",
       " {'Query': 'when I create a new user group',\n",
       "  'Title': 'User group permissions not saving correctly leading to full access',\n",
       "  'Browser': '',\n",
       "  'OS': '',\n",
       "  'Customer_Type': 'Individual',\n",
       "  'Issue': 'Permissions not saving correctly leading to full access',\n",
       "  'Resolution': 'Check and verify that the user group permissions are correctly assigned and saved in the system. If not'},\n",
       " {'Query': 'your widget causes layout shifts on our site when it loads. Can we delay or async-load it? – Frontend Dev',\n",
       "  'Title': 'Layout shifts caused by widget loading',\n",
       "  'Browser': '',\n",
       "  'OS': '',\n",
       "  'Customer_Type': 'Developer',\n",
       "  'Issue': 'Layout shifts occur when widget is loaded',\n",
       "  'Resolution': \"Implement async or defer the widget's loading to prevent layout shifts\"},\n",
       " {'Query': \"our backups to Dropbox failed with a 'Token revoked' error. We didn’t change anything. How can we reconnect safely? – IT Ops\",\n",
       "  'Title': 'Dropbox Backup Token Revoked Error',\n",
       "  'Browser': '',\n",
       "  'OS': '',\n",
       "  'Customer_Type': 'Enterprise',\n",
       "  'Issue': \"Backup failed with 'Token revoked' error\",\n",
       "  'Resolution': 'Re-authenticate with Dropbox to resolve the token revoked error'},\n",
       " {'Query': 'we integrated your app with Slack but messages are delayed or missing. Webhook retries? – Product Team',\n",
       "  'Title': 'Slack integration messages delayed or missing with webhook retries',\n",
       "  'Browser': '',\n",
       "  'OS': '',\n",
       "  'Customer_Type': 'Enterprise',\n",
       "  'Issue': 'Delayed or missing Slack messages with webhook retries',\n",
       "  'Resolution': 'Verify webhook retry settings in Slack app configuration and ensure proper integration'},\n",
       " {'Query': 'I’m using Brave browser and the login page doesn’t load—it’s just blank. Any compatibility issues?',\n",
       "  'Title': 'Login page not loading in Brave browser',\n",
       "  'Browser': 'Brave',\n",
       "  'OS': '',\n",
       "  'Customer_Type': 'Individual',\n",
       "  'Issue': 'Login page fails to load with blank screen',\n",
       "  'Resolution': 'Check for browser updates and disable any conflicting extensions'},\n",
       " {'Query': 'when exporting a CSV report',\n",
       "  'Title': 'CSV export formatting issue with commas in text fields',\n",
       "  'Browser': '',\n",
       "  'OS': '',\n",
       "  'Customer_Type': 'Developer',\n",
       "  'Issue': 'Commas in text fields cause CSV export formatting issues',\n",
       "  'Resolution': 'Wrap fields in quotes when exporting CSV to prevent comma issues'},\n",
       " {'Query': 'We tried sending a bulk invite to users but only some received the email. We’re using the admin console. Why?',\n",
       "  'Title': 'Bulk invite not reaching all users in admin console',\n",
       "  'Browser': '',\n",
       "  'OS': '',\n",
       "  'Customer_Type': 'Enterprise',\n",
       "  'Issue': 'Bulk invite not reaching all users in admin console',\n",
       "  'Resolution': 'Check email server settings and verify recipient list for bulk invites'},\n",
       " {'Query': 'I accidentally deleted an important workspace. Is there a way to restore it? It happened an hour ago. – Maria',\n",
       "  'Title': 'Workspace deletion and restoration request',\n",
       "  'Browser': '',\n",
       "  'OS': '',\n",
       "  'Customer_Type': 'Individual',\n",
       "  'Issue': 'Accidental deletion of workspace and need to restore it',\n",
       "  'Resolution': 'Check if a backup exists and restore it'}]"
      ]
     },
     "execution_count": 8,
     "metadata": {},
     "output_type": "execute_result"
    }
   ],
   "source": [
    "synthetic_data"
   ]
  },
  {
   "cell_type": "code",
   "execution_count": 9,
   "id": "ac60b0c9",
   "metadata": {},
   "outputs": [
    {
     "data": {
      "text/plain": [
       "True"
      ]
     },
     "execution_count": 9,
     "metadata": {},
     "output_type": "execute_result"
    }
   ],
   "source": [
    "# Check if synthetic data is of type json object\n",
    "import json\n",
    "\n",
    "def is_json_serializable(data):\n",
    "    \"\"\"Functioin to check if the synthetic data is of type json object. So that it can be converted easily to a csv file using pandas\"\"\"\n",
    "\n",
    "    try:\n",
    "        json.dumps(data)\n",
    "        return True\n",
    "    except (TypeError, OverflowError):\n",
    "        return False\n",
    "    \n",
    "is_json_serializable(synthetic_data)"
   ]
  },
  {
   "cell_type": "code",
   "execution_count": 10,
   "id": "db918fa8",
   "metadata": {},
   "outputs": [],
   "source": [
    "import pandas as pd\n",
    "\n",
    "data = synthetic_data\n",
    "csv_filename = \"./datasets/query_support_ticket.csv\"\n",
    "\n",
    "df = pd.DataFrame(data)\n",
    "df.to_csv(csv_filename, index=False)"
   ]
  },
  {
   "cell_type": "code",
   "execution_count": null,
   "id": "6c154d19",
   "metadata": {},
   "outputs": [],
   "source": []
  }
 ],
 "metadata": {
  "kernelspec": {
   "display_name": "HandsOnLLMs",
   "language": "python",
   "name": "python3"
  },
  "language_info": {
   "codemirror_mode": {
    "name": "ipython",
    "version": 3
   },
   "file_extension": ".py",
   "mimetype": "text/x-python",
   "name": "python",
   "nbconvert_exporter": "python",
   "pygments_lexer": "ipython3",
   "version": "3.10.13"
  }
 },
 "nbformat": 4,
 "nbformat_minor": 5
}
