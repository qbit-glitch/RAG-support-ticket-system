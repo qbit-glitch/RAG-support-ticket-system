{
 "cells": [
  {
   "cell_type": "code",
   "execution_count": 2,
   "id": "37c625a9",
   "metadata": {},
   "outputs": [],
   "source": [
    "import os\n",
    "from dotenv import load_dotenv\n",
    "from langchain_community.document_loaders import JSONLoader\n",
    "from langchain.vectorstores import FAISS\n",
    "from sentence_transformers import SentenceTransformer\n",
    "from langchain_huggingface import HuggingFaceEmbeddings\n",
    "import csv\n",
    "import json\n"
   ]
  },
  {
   "cell_type": "code",
   "execution_count": 3,
   "id": "6c9eacfc",
   "metadata": {},
   "outputs": [
    {
     "data": {
      "text/plain": [
       "[Document(metadata={'Query': \"I'm unable to generate reports from the dashboard. The button remains greyed out even after selecting all the required filters. This happens on Chrome on macOS Sonoma.\", 'Title': 'Dashboard report generation button is greyed out after applying filters', 'Browser': 'Chrome', 'OS': 'macOS Sonoma', 'Customer_Type': 'Individual', 'Issue': 'Dashboard report generation button remains greyed out after applying filters', 'Resolution': 'Clear browser cache and cookies'}, page_content='{\\'Query\\': \"I\\'m unable to generate reports from the dashboard. The button remains greyed out even after selecting all the required filters. This happens on Chrome on macOS Sonoma.\", \\'Title\\': \\'Dashboard report generation button is greyed out after applying filters\\', \\'Browser\\': \\'Chrome\\', \\'OS\\': \\'macOS Sonoma\\', \\'Customer_Type\\': \\'Individual\\', \\'Issue\\': \\'Dashboard report generation button remains greyed out after applying filters\\', \\'Resolution\\': \\'Clear browser cache and cookies\\'}'),\n",
       " Document(metadata={'Query': \"Our team can't access shared folders anymore. We keep getting a 'Permission Denied' error\", 'Title': 'Shared folder access denied error on Firefox on Windows 10', 'Browser': 'Firefox', 'OS': 'Windows 10', 'Customer_Type': 'Enterprise', 'Issue': 'Permission denied error when accessing shared folders despite no role changes', 'Resolution': 'Check firewall settings and ensure the shared folder permissions are correctly configured'}, page_content='{\\'Query\\': \"Our team can\\'t access shared folders anymore. We keep getting a \\'Permission Denied\\' error\", \\'Title\\': \\'Shared folder access denied error on Firefox on Windows 10\\', \\'Browser\\': \\'Firefox\\', \\'OS\\': \\'Windows 10\\', \\'Customer_Type\\': \\'Enterprise\\', \\'Issue\\': \\'Permission denied error when accessing shared folders despite no role changes\\', \\'Resolution\\': \\'Check firewall settings and ensure the shared folder permissions are correctly configured\\'}'),\n",
       " Document(metadata={'Query': \"The mobile app crashes on launch for Android 14 users. It briefly shows the splash screen then closes. We've tried reinstalling. Help? – Dev Team\", 'Title': 'Mobile app crashes on launch for Android 14 users', 'Browser': '', 'OS': 'Android 14', 'Customer_Type': 'Developer', 'Issue': 'Mobile app crashes on launch for Android 14 users', 'Resolution': 'Check for app updates and ensure the device is compatible with Android 14. If the issue persists'}, page_content='{\\'Query\\': \"The mobile app crashes on launch for Android 14 users. It briefly shows the splash screen then closes. We\\'ve tried reinstalling. Help? – Dev Team\", \\'Title\\': \\'Mobile app crashes on launch for Android 14 users\\', \\'Browser\\': \\'\\', \\'OS\\': \\'Android 14\\', \\'Customer_Type\\': \\'Developer\\', \\'Issue\\': \\'Mobile app crashes on launch for Android 14 users\\', \\'Resolution\\': \\'Check for app updates and ensure the device is compatible with Android 14. If the issue persists\\'}'),\n",
       " Document(metadata={'Query': \"Emails from your system are being flagged as spam by Gmail. We're missing important notifications. Can you adjust the sending domain or SPF records? Thanks\", 'Title': 'Email spam flagging and notification issues', 'Browser': '', 'OS': '', 'Customer_Type': 'Individual', 'Issue': 'Emails flagged as spam by Gmail leading to missing notifications', 'Resolution': \"Check and update SPF records or adjust the sending domain settings in Gmail's spam filtering settings\"}, page_content='{\\'Query\\': \"Emails from your system are being flagged as spam by Gmail. We\\'re missing important notifications. Can you adjust the sending domain or SPF records? Thanks\", \\'Title\\': \\'Email spam flagging and notification issues\\', \\'Browser\\': \\'\\', \\'OS\\': \\'\\', \\'Customer_Type\\': \\'Individual\\', \\'Issue\\': \\'Emails flagged as spam by Gmail leading to missing notifications\\', \\'Resolution\\': \"Check and update SPF records or adjust the sending domain settings in Gmail\\'s spam filtering settings\"}'),\n",
       " Document(metadata={'Query': 'I’m seeing a 502 Bad Gateway error when trying to access our billing page. This happens in Safari on iOS 17.', 'Title': 'Billing page fails with 502 Bad Gateway error in Safari on iOS 17', 'Browser': 'Safari iOS 17', 'OS': 'iOS 17', 'Customer_Type': 'Individual', 'Issue': '502 Bad Gateway error when accessing billing page in Safari on iOS 17', 'Resolution': 'Check server logs and ensure the billing service is running correctly. Verify if there are any known issues with the billing page or server configuration.'}, page_content=\"{'Query': 'I’m seeing a 502 Bad Gateway error when trying to access our billing page. This happens in Safari on iOS 17.', 'Title': 'Billing page fails with 502 Bad Gateway error in Safari on iOS 17', 'Browser': 'Safari iOS 17', 'OS': 'iOS 17', 'Customer_Type': 'Individual', 'Issue': '502 Bad Gateway error when accessing billing page in Safari on iOS 17', 'Resolution': 'Check server logs and ensure the billing service is running correctly. Verify if there are any known issues with the billing page or server configuration.'}\"),\n",
       " Document(metadata={'Query': \"we tried importing our user data via CSV but keep getting 'Invalid file format' even though it follows the template.\", 'Title': 'CSV import failure with invalid format', 'Browser': 'Edge', 'OS': 'Windows 11', 'Customer_Type': 'Individual', 'Issue': 'CSV file format error despite following the template', 'Resolution': 'Verify file encoding (UTF-8 or UTF-16) and check for missing commas or incorrect delimiters in the CSV'}, page_content='{\\'Query\\': \"we tried importing our user data via CSV but keep getting \\'Invalid file format\\' even though it follows the template.\", \\'Title\\': \\'CSV import failure with invalid format\\', \\'Browser\\': \\'Edge\\', \\'OS\\': \\'Windows 11\\', \\'Customer_Type\\': \\'Individual\\', \\'Issue\\': \\'CSV file format error despite following the template\\', \\'Resolution\\': \\'Verify file encoding (UTF-8 or UTF-16) and check for missing commas or incorrect delimiters in the CSV\\'}'),\n",
       " Document(metadata={'Query': \"I noticed the time tracking widget is not syncing with our calendar anymore. We're using Google Calendar integration. This started last week. Help appreciated! – Camille\", 'Title': 'Time tracking widget not syncing with Google Calendar', 'Browser': '', 'OS': '', 'Customer_Type': 'Individual', 'Issue': 'Time tracking widget not syncing with Google Calendar', 'Resolution': \"Check the Google Calendar integration settings in the time tracking tool and ensure it's properly configured\"}, page_content='{\\'Query\\': \"I noticed the time tracking widget is not syncing with our calendar anymore. We\\'re using Google Calendar integration. This started last week. Help appreciated! – Camille\", \\'Title\\': \\'Time tracking widget not syncing with Google Calendar\\', \\'Browser\\': \\'\\', \\'OS\\': \\'\\', \\'Customer_Type\\': \\'Individual\\', \\'Issue\\': \\'Time tracking widget not syncing with Google Calendar\\', \\'Resolution\\': \"Check the Google Calendar integration settings in the time tracking tool and ensure it\\'s properly configured\"}'),\n",
       " Document(metadata={'Query': \"we just onboarded a new employee but they’re stuck at the 'Verify your email' step. They never get the email. We've checked spam and firewall.\", 'Title': 'Email verification failure for new employee', 'Browser': '', 'OS': '', 'Customer_Type': 'Individual', 'Issue': 'Email verification failure for new employee', 'Resolution': \"Check if the email was sent to the correct address and ensure the employee is checking their inbox. Verify email settings and confirm the employee's account is properly configured.\"}, page_content='{\\'Query\\': \"we just onboarded a new employee but they’re stuck at the \\'Verify your email\\' step. They never get the email. We\\'ve checked spam and firewall.\", \\'Title\\': \\'Email verification failure for new employee\\', \\'Browser\\': \\'\\', \\'OS\\': \\'\\', \\'Customer_Type\\': \\'Individual\\', \\'Issue\\': \\'Email verification failure for new employee\\', \\'Resolution\\': \"Check if the email was sent to the correct address and ensure the employee is checking their inbox. Verify email settings and confirm the employee\\'s account is properly configured.\"}'),\n",
       " Document(metadata={'Query': \"Our API calls are failing with a 403 error since yesterday. Our API key hasn't changed. Could it be rate limiting or permission-related?\", 'Title': 'API 403 error due to rate limiting or permissions', 'Browser': '', 'OS': '', 'Customer_Type': 'Developer', 'Issue': '403 error during API calls', 'Resolution': 'Check API rate limits and verify API key permissions. Ensure the API key is valid and has the necessary access rights.'}, page_content='{\\'Query\\': \"Our API calls are failing with a 403 error since yesterday. Our API key hasn\\'t changed. Could it be rate limiting or permission-related?\", \\'Title\\': \\'API 403 error due to rate limiting or permissions\\', \\'Browser\\': \\'\\', \\'OS\\': \\'\\', \\'Customer_Type\\': \\'Developer\\', \\'Issue\\': \\'403 error during API calls\\', \\'Resolution\\': \\'Check API rate limits and verify API key permissions. Ensure the API key is valid and has the necessary access rights.\\'}'),\n",
       " Document(metadata={'Query': 'The new dashboard layout doesn’t load on Safari 15. It shows a blank screen. Other browsers work fine. Is this a known issue? – Michael', 'Title': 'Dashboard layout fails to load on Safari 15 with blank screen', 'Browser': 'Safari 15', 'OS': '', 'Customer_Type': 'Individual', 'Issue': 'Dashboard layout fails to load on Safari 15 with blank screen', 'Resolution': 'Check browser compatibility for Safari 15 and consider updating to a newer version or checking for known issues in the browser support documentation.'}, page_content=\"{'Query': 'The new dashboard layout doesn’t load on Safari 15. It shows a blank screen. Other browsers work fine. Is this a known issue? – Michael', 'Title': 'Dashboard layout fails to load on Safari 15 with blank screen', 'Browser': 'Safari 15', 'OS': '', 'Customer_Type': 'Individual', 'Issue': 'Dashboard layout fails to load on Safari 15 with blank screen', 'Resolution': 'Check browser compatibility for Safari 15 and consider updating to a newer version or checking for known issues in the browser support documentation.'}\"),\n",
       " Document(metadata={'Query': \"the dark mode setting resets every time I log in. I’ve tried clearing cookies but no luck. I'm on Firefox on Linux.\", 'Title': 'Dark mode resets on login', 'Browser': 'Firefox', 'OS': 'Linux', 'Customer_Type': 'Individual', 'Issue': 'Dark mode resets after login', 'Resolution': \"Check if system-wide dark mode settings are overriding Firefox's theme and disable any browser extensions that may affect the theme\"}, page_content='{\\'Query\\': \"the dark mode setting resets every time I log in. I’ve tried clearing cookies but no luck. I\\'m on Firefox on Linux.\", \\'Title\\': \\'Dark mode resets on login\\', \\'Browser\\': \\'Firefox\\', \\'OS\\': \\'Linux\\', \\'Customer_Type\\': \\'Individual\\', \\'Issue\\': \\'Dark mode resets after login\\', \\'Resolution\\': \"Check if system-wide dark mode settings are overriding Firefox\\'s theme and disable any browser extensions that may affect the theme\"}'),\n",
       " Document(metadata={'Query': \"our invoices are showing incorrect tax calculations for European customers. VAT isn't being added.\", 'Title': 'Incorrect VAT calculation in invoices for European customers', 'Browser': '', 'OS': '', 'Customer_Type': 'Individual', 'Issue': 'VAT not being added to invoices for European customers', 'Resolution': 'Check and update tax settings to include VAT for European customers'}, page_content='{\\'Query\\': \"our invoices are showing incorrect tax calculations for European customers. VAT isn\\'t being added.\", \\'Title\\': \\'Incorrect VAT calculation in invoices for European customers\\', \\'Browser\\': \\'\\', \\'OS\\': \\'\\', \\'Customer_Type\\': \\'Individual\\', \\'Issue\\': \\'VAT not being added to invoices for European customers\\', \\'Resolution\\': \\'Check and update tax settings to include VAT for European customers\\'}'),\n",
       " Document(metadata={'Query': \"I'm trying to upgrade our subscription but the payment form keeps timing out. I've tried multiple cards. Using Chrome on Windows 10.\", 'Title': 'Subscription upgrade payment form timeout', 'Browser': 'Chrome (version not specified)', 'OS': 'Windows 10', 'Customer_Type': 'Individual', 'Issue': 'Payment form timeouts during subscription upgrade', 'Resolution': 'Clear browser cache and cookies'}, page_content='{\\'Query\\': \"I\\'m trying to upgrade our subscription but the payment form keeps timing out. I\\'ve tried multiple cards. Using Chrome on Windows 10.\", \\'Title\\': \\'Subscription upgrade payment form timeout\\', \\'Browser\\': \\'Chrome (version not specified)\\', \\'OS\\': \\'Windows 10\\', \\'Customer_Type\\': \\'Individual\\', \\'Issue\\': \\'Payment form timeouts during subscription upgrade\\', \\'Resolution\\': \\'Clear browser cache and cookies\\'}'),\n",
       " Document(metadata={'Query': 'we’re seeing delays in real-time notifications—up to 10 minutes sometimes. This impacts our workflow significantly. Any updates? – Operations Team', 'Title': 'Delays in real-time notifications', 'Browser': '', 'OS': '', 'Customer_Type': 'Individual', 'Issue': 'Delays in real-time notifications', 'Resolution': 'Check system logs for real-time notification delays or contact support for further details'}, page_content=\"{'Query': 'we’re seeing delays in real-time notifications—up to 10 minutes sometimes. This impacts our workflow significantly. Any updates? – Operations Team', 'Title': 'Delays in real-time notifications', 'Browser': '', 'OS': '', 'Customer_Type': 'Individual', 'Issue': 'Delays in real-time notifications', 'Resolution': 'Check system logs for real-time notification delays or contact support for further details'}\"),\n",
       " Document(metadata={'Query': 'when we export our dashboard to PDF', 'Title': 'PDF export issue: charts missing or cut off', 'Browser': '', 'OS': '', 'Customer_Type': 'Individual', 'Issue': 'Charts missing or cut off during PDF export', 'Resolution': 'Check PDF export settings and ensure that charts are included in the export. Try exporting in a different PDF viewer to see if the issue persists.'}, page_content=\"{'Query': 'when we export our dashboard to PDF', 'Title': 'PDF export issue: charts missing or cut off', 'Browser': '', 'OS': '', 'Customer_Type': 'Individual', 'Issue': 'Charts missing or cut off during PDF export', 'Resolution': 'Check PDF export settings and ensure that charts are included in the export. Try exporting in a different PDF viewer to see if the issue persists.'}\"),\n",
       " Document(metadata={'Query': \"I’m using the CLI tool and suddenly getting an 'Authentication failed' message. Token hasn’t changed. What should I do? – Greg\", 'Title': 'Authentication failed with unchanged token in CLI tool', 'Browser': '', 'OS': '', 'Customer_Type': 'Individual', 'Issue': 'Authentication failure with unchanged token in CLI tool', 'Resolution': 'Check if the token is expired or invalid. Try re-authenticating or clearing cached credentials. Verify server-side authentication settings.'}, page_content='{\\'Query\\': \"I’m using the CLI tool and suddenly getting an \\'Authentication failed\\' message. Token hasn’t changed. What should I do? – Greg\", \\'Title\\': \\'Authentication failed with unchanged token in CLI tool\\', \\'Browser\\': \\'\\', \\'OS\\': \\'\\', \\'Customer_Type\\': \\'Individual\\', \\'Issue\\': \\'Authentication failure with unchanged token in CLI tool\\', \\'Resolution\\': \\'Check if the token is expired or invalid. Try re-authenticating or clearing cached credentials. Verify server-side authentication settings.\\'}'),\n",
       " Document(metadata={'Query': \"attachments aren't downloading properly in Safari—they appear as .txt instead of PDFs. This is only happening for some users.\", 'Title': 'Attachments not downloading correctly in Safari', 'Browser': 'Safari', 'OS': '', 'Customer_Type': 'Individual', 'Issue': 'Attachments are displayed as .txt instead of PDFs in Safari.', 'Resolution': \"Check Safari's download settings to ensure PDFs are allowed and try clearing the cache.\"}, page_content='{\\'Query\\': \"attachments aren\\'t downloading properly in Safari—they appear as .txt instead of PDFs. This is only happening for some users.\", \\'Title\\': \\'Attachments not downloading correctly in Safari\\', \\'Browser\\': \\'Safari\\', \\'OS\\': \\'\\', \\'Customer_Type\\': \\'Individual\\', \\'Issue\\': \\'Attachments are displayed as .txt instead of PDFs in Safari.\\', \\'Resolution\\': \"Check Safari\\'s download settings to ensure PDFs are allowed and try clearing the cache.\"}'),\n",
       " Document(metadata={'Query': 'every time I try to reset my password', 'Title': 'Password reset token expired error', 'Browser': '', 'OS': '', 'Customer_Type': 'Individual', 'Issue': 'Password reset token expired error', 'Resolution': 'Check if the password reset link was clicked immediately and ensure the token is valid. If the issue persists'}, page_content=\"{'Query': 'every time I try to reset my password', 'Title': 'Password reset token expired error', 'Browser': '', 'OS': '', 'Customer_Type': 'Individual', 'Issue': 'Password reset token expired error', 'Resolution': 'Check if the password reset link was clicked immediately and ensure the token is valid. If the issue persists'}\"),\n",
       " Document(metadata={'Query': 'we recently switched to SAML authentication', 'Title': \"SAML Authentication Issue: New Users Getting 'Invalid Assertion' Errors\", 'Browser': '', 'OS': '', 'Customer_Type': 'Enterprise', 'Issue': \"New users are encountering 'invalid assertion' errors after switching to SAML authentication\", 'Resolution': 'Verify SAML configuration'}, page_content='{\\'Query\\': \\'we recently switched to SAML authentication\\', \\'Title\\': \"SAML Authentication Issue: New Users Getting \\'Invalid Assertion\\' Errors\", \\'Browser\\': \\'\\', \\'OS\\': \\'\\', \\'Customer_Type\\': \\'Enterprise\\', \\'Issue\\': \"New users are encountering \\'invalid assertion\\' errors after switching to SAML authentication\", \\'Resolution\\': \\'Verify SAML configuration\\'}'),\n",
       " Document(metadata={'Query': 'the drag-and-drop upload feature doesn’t work in Firefox but works in Chrome. It just opens the file instead of uploading. Any workaround? – Daniel', 'Title': 'Drag-and-Drop Upload Issue in Firefox', 'Browser': 'Firefox', 'OS': '', 'Customer_Type': 'Developer', 'Issue': 'Drag-and-drop upload feature fails in Firefox', 'Resolution': 'Try clearing browser cache and cookies in Firefox. If issue persists'}, page_content=\"{'Query': 'the drag-and-drop upload feature doesn’t work in Firefox but works in Chrome. It just opens the file instead of uploading. Any workaround? – Daniel', 'Title': 'Drag-and-Drop Upload Issue in Firefox', 'Browser': 'Firefox', 'OS': '', 'Customer_Type': 'Developer', 'Issue': 'Drag-and-drop upload feature fails in Firefox', 'Resolution': 'Try clearing browser cache and cookies in Firefox. If issue persists'}\"),\n",
       " Document(metadata={'Query': 'we can’t delete old projects—clicking delete does nothing. No error message either. Using Edge on Windows', 'Title': 'Project deletion fails in Edge on Windows', 'Browser': 'Edge', 'OS': 'Windows', 'Customer_Type': 'Individual', 'Issue': 'Project deletion fails when clicking delete button', 'Resolution': 'Clear browser cache and try again'}, page_content=\"{'Query': 'we can’t delete old projects—clicking delete does nothing. No error message either. Using Edge on Windows', 'Title': 'Project deletion fails in Edge on Windows', 'Browser': 'Edge', 'OS': 'Windows', 'Customer_Type': 'Individual', 'Issue': 'Project deletion fails when clicking delete button', 'Resolution': 'Clear browser cache and try again'}\"),\n",
       " Document(metadata={'Query': \"I'm getting logged out randomly while working. It’s disrupting my work. Session timeout setting? – Omar\", 'Title': 'Random login logout due to session timeout', 'Browser': '', 'OS': '', 'Customer_Type': 'Individual', 'Issue': 'Random login logout due to session timeout', 'Resolution': 'Check and adjust the session timeout settings in your account or system configuration'}, page_content='{\\'Query\\': \"I\\'m getting logged out randomly while working. It’s disrupting my work. Session timeout setting? – Omar\", \\'Title\\': \\'Random login logout due to session timeout\\', \\'Browser\\': \\'\\', \\'OS\\': \\'\\', \\'Customer_Type\\': \\'Individual\\', \\'Issue\\': \\'Random login logout due to session timeout\\', \\'Resolution\\': \\'Check and adjust the session timeout settings in your account or system configuration\\'}'),\n",
       " Document(metadata={'Query': 'the app is stuck on a loading spinner after login. Happens on Android 13. Works fine on iOS. Any updates? – Beta Tester', 'Title': 'App loading spinner stuck after login on Android 13', 'Browser': 'Android 13', 'OS': 'Android', 'Customer_Type': 'Beta Tester', 'Issue': 'App is stuck on loading spinner after login on Android 13', 'Resolution': 'Check for app updates and ensure the device is running the latest Android OS version'}, page_content=\"{'Query': 'the app is stuck on a loading spinner after login. Happens on Android 13. Works fine on iOS. Any updates? – Beta Tester', 'Title': 'App loading spinner stuck after login on Android 13', 'Browser': 'Android 13', 'OS': 'Android', 'Customer_Type': 'Beta Tester', 'Issue': 'App is stuck on loading spinner after login on Android 13', 'Resolution': 'Check for app updates and ensure the device is running the latest Android OS version'}\"),\n",
       " Document(metadata={'Query': 'Our webhook endpoint isn’t receiving payloads. Nothing in our logs. Can you check if they’re being sent from your side? Thanks', 'Title': 'Webhook endpoint not receiving payloads', 'Browser': '', 'OS': '', 'Customer_Type': 'Individual', 'Issue': 'Webhook endpoint not receiving payloads', 'Resolution': 'Verify webhook URL configuration and check server logs on the other side for payload transmission details'}, page_content=\"{'Query': 'Our webhook endpoint isn’t receiving payloads. Nothing in our logs. Can you check if they’re being sent from your side? Thanks', 'Title': 'Webhook endpoint not receiving payloads', 'Browser': '', 'OS': '', 'Customer_Type': 'Individual', 'Issue': 'Webhook endpoint not receiving payloads', 'Resolution': 'Verify webhook URL configuration and check server logs on the other side for payload transmission details'}\"),\n",
       " Document(metadata={'Query': \"scheduled reports aren't being sent via email. They show as 'Delivered' in the UI but never arrive.\", 'Title': 'Scheduled reports not arriving via email despite marked as delivered', 'Browser': '', 'OS': '', 'Customer_Type': 'Individual', 'Issue': 'Scheduled reports not arriving via email despite marked as delivered', 'Resolution': 'Check email server settings and verify that the report delivery configuration is correct'}, page_content='{\\'Query\\': \"scheduled reports aren\\'t being sent via email. They show as \\'Delivered\\' in the UI but never arrive.\", \\'Title\\': \\'Scheduled reports not arriving via email despite marked as delivered\\', \\'Browser\\': \\'\\', \\'OS\\': \\'\\', \\'Customer_Type\\': \\'Individual\\', \\'Issue\\': \\'Scheduled reports not arriving via email despite marked as delivered\\', \\'Resolution\\': \\'Check email server settings and verify that the report delivery configuration is correct\\'}'),\n",
       " Document(metadata={'Query': \"I just tried uploading a logo in our profile settings and received 'Unsupported file format'—but it's a PNG.\", 'Title': \"Logo upload fails with 'Unsupported file format' error\", 'Browser': '', 'OS': '', 'Customer_Type': 'Individual', 'Issue': \"Logo upload fails with 'Unsupported file format' error\", 'Resolution': 'Check if the server settings allow PNG file uploads and ensure the file is correctly formatted.'}, page_content='{\\'Query\\': \"I just tried uploading a logo in our profile settings and received \\'Unsupported file format\\'—but it\\'s a PNG.\", \\'Title\\': \"Logo upload fails with \\'Unsupported file format\\' error\", \\'Browser\\': \\'\\', \\'OS\\': \\'\\', \\'Customer_Type\\': \\'Individual\\', \\'Issue\\': \"Logo upload fails with \\'Unsupported file format\\' error\", \\'Resolution\\': \\'Check if the server settings allow PNG file uploads and ensure the file is correctly formatted.\\'}'),\n",
       " Document(metadata={'Query': \"Users are unable to sign documents via e-signature—clicking 'Sign' does nothing. This is blocking contract completion. – L Dept\", 'Title': 'E-signature signing fails for legal documents', 'Browser': '', 'OS': '', 'Customer_Type': 'Individual', 'Issue': 'E-signature signing fails for legal documents', 'Resolution': 'Verify e-signature settings and ensure the document is correctly formatted for signing'}, page_content='{\\'Query\\': \"Users are unable to sign documents via e-signature—clicking \\'Sign\\' does nothing. This is blocking contract completion. – L Dept\", \\'Title\\': \\'E-signature signing fails for legal documents\\', \\'Browser\\': \\'\\', \\'OS\\': \\'\\', \\'Customer_Type\\': \\'Individual\\', \\'Issue\\': \\'E-signature signing fails for legal documents\\', \\'Resolution\\': \\'Verify e-signature settings and ensure the document is correctly formatted for signing\\'}'),\n",
       " Document(metadata={'Query': 'auto-save is not working in the editor anymore. We’ve lost work due to this. Using Chrome on Windows 10.', 'Title': 'Auto-save functionality not working in editor causing data loss', 'Browser': 'Chrome', 'OS': 'Windows 10', 'Customer_Type': 'Individual', 'Issue': 'Auto-save is not working in the editor anymore. We’ve lost work due to this.', 'Resolution': 'Clear browser cache and cookies'}, page_content=\"{'Query': 'auto-save is not working in the editor anymore. We’ve lost work due to this. Using Chrome on Windows 10.', 'Title': 'Auto-save functionality not working in editor causing data loss', 'Browser': 'Chrome', 'OS': 'Windows 10', 'Customer_Type': 'Individual', 'Issue': 'Auto-save is not working in the editor anymore. We’ve lost work due to this.', 'Resolution': 'Clear browser cache and cookies'}\"),\n",
       " Document(metadata={'Query': \"we're seeing duplicated records after importing contacts. Can you prevent duplicates based on email ID? – CRM Admin\", 'Title': 'Duplicate records during contact import based on email ID', 'Browser': '', 'OS': '', 'Customer_Type': 'Individual', 'Issue': 'Duplicate records after importing contacts based on email ID', 'Resolution': 'Configure the import settings to check for existing email IDs and prevent duplicates'}, page_content='{\\'Query\\': \"we\\'re seeing duplicated records after importing contacts. Can you prevent duplicates based on email ID? – CRM Admin\", \\'Title\\': \\'Duplicate records during contact import based on email ID\\', \\'Browser\\': \\'\\', \\'OS\\': \\'\\', \\'Customer_Type\\': \\'Individual\\', \\'Issue\\': \\'Duplicate records after importing contacts based on email ID\\', \\'Resolution\\': \\'Configure the import settings to check for existing email IDs and prevent duplicates\\'}'),\n",
       " Document(metadata={'Query': 'the analytics widget isn’t updating in real-time—it shows data from yesterday only. Any known issue?', 'Title': 'Analytics widget not updating in real-time', 'Browser': '', 'OS': '', 'Customer_Type': 'Individual', 'Issue': 'Analytics widget shows data from yesterday instead of real-time updates', 'Resolution': 'Check if the widget is updated or contact support for further assistance'}, page_content=\"{'Query': 'the analytics widget isn’t updating in real-time—it shows data from yesterday only. Any known issue?', 'Title': 'Analytics widget not updating in real-time', 'Browser': '', 'OS': '', 'Customer_Type': 'Individual', 'Issue': 'Analytics widget shows data from yesterday instead of real-time updates', 'Resolution': 'Check if the widget is updated or contact support for further assistance'}\"),\n",
       " Document(metadata={'Query': 'the custom domain setup for our portal fails at the SSL verification step. Using Cloudflare for DNS. Please help. – IT Admin', 'Title': 'SSL verification failure during custom domain setup with Cloudflare', 'Browser': '', 'OS': '', 'Customer_Type': 'Individual', 'Issue': 'SSL verification fails during custom domain setup with Cloudflare', 'Resolution': 'Verify Cloudflare SSL/TLS settings'}, page_content=\"{'Query': 'the custom domain setup for our portal fails at the SSL verification step. Using Cloudflare for DNS. Please help. – IT Admin', 'Title': 'SSL verification failure during custom domain setup with Cloudflare', 'Browser': '', 'OS': '', 'Customer_Type': 'Individual', 'Issue': 'SSL verification fails during custom domain setup with Cloudflare', 'Resolution': 'Verify Cloudflare SSL/TLS settings'}\"),\n",
       " Document(metadata={'Query': \"We’re getting 'Unknown error' when trying to submit forms on iPads running iPadOS 17. Worked before. Fix? – Front Desk\", 'Title': 'Unknown error on iPadOS 17 form submission', 'Browser': 'iPadOS 17', 'OS': 'iPadOS 17', 'Customer_Type': 'Individual', 'Issue': 'Unknown error when submitting forms on iPadOS 17', 'Resolution': 'Check for iPadOS updates and clear browser cache if using Safari'}, page_content='{\\'Query\\': \"We’re getting \\'Unknown error\\' when trying to submit forms on iPads running iPadOS 17. Worked before. Fix? – Front Desk\", \\'Title\\': \\'Unknown error on iPadOS 17 form submission\\', \\'Browser\\': \\'iPadOS 17\\', \\'OS\\': \\'iPadOS 17\\', \\'Customer_Type\\': \\'Individual\\', \\'Issue\\': \\'Unknown error when submitting forms on iPadOS 17\\', \\'Resolution\\': \\'Check for iPadOS updates and clear browser cache if using Safari\\'}'),\n",
       " Document(metadata={'Query': 'when I create a new user group', 'Title': 'User group permissions not saving correctly leading to full access', 'Browser': '', 'OS': '', 'Customer_Type': 'Individual', 'Issue': 'Permissions not saving correctly leading to full access', 'Resolution': 'Check and verify that the user group permissions are correctly assigned and saved in the system. If not'}, page_content=\"{'Query': 'when I create a new user group', 'Title': 'User group permissions not saving correctly leading to full access', 'Browser': '', 'OS': '', 'Customer_Type': 'Individual', 'Issue': 'Permissions not saving correctly leading to full access', 'Resolution': 'Check and verify that the user group permissions are correctly assigned and saved in the system. If not'}\"),\n",
       " Document(metadata={'Query': 'your widget causes layout shifts on our site when it loads. Can we delay or async-load it? – Frontend Dev', 'Title': 'Layout shifts caused by widget loading', 'Browser': '', 'OS': '', 'Customer_Type': 'Developer', 'Issue': 'Layout shifts occur when widget is loaded', 'Resolution': \"Implement async or defer the widget's loading to prevent layout shifts\"}, page_content='{\\'Query\\': \\'your widget causes layout shifts on our site when it loads. Can we delay or async-load it? – Frontend Dev\\', \\'Title\\': \\'Layout shifts caused by widget loading\\', \\'Browser\\': \\'\\', \\'OS\\': \\'\\', \\'Customer_Type\\': \\'Developer\\', \\'Issue\\': \\'Layout shifts occur when widget is loaded\\', \\'Resolution\\': \"Implement async or defer the widget\\'s loading to prevent layout shifts\"}'),\n",
       " Document(metadata={'Query': \"our backups to Dropbox failed with a 'Token revoked' error. We didn’t change anything. How can we reconnect safely? – IT Ops\", 'Title': 'Dropbox Backup Token Revoked Error', 'Browser': '', 'OS': '', 'Customer_Type': 'Enterprise', 'Issue': \"Backup failed with 'Token revoked' error\", 'Resolution': 'Re-authenticate with Dropbox to resolve the token revoked error'}, page_content='{\\'Query\\': \"our backups to Dropbox failed with a \\'Token revoked\\' error. We didn’t change anything. How can we reconnect safely? – IT Ops\", \\'Title\\': \\'Dropbox Backup Token Revoked Error\\', \\'Browser\\': \\'\\', \\'OS\\': \\'\\', \\'Customer_Type\\': \\'Enterprise\\', \\'Issue\\': \"Backup failed with \\'Token revoked\\' error\", \\'Resolution\\': \\'Re-authenticate with Dropbox to resolve the token revoked error\\'}'),\n",
       " Document(metadata={'Query': 'we integrated your app with Slack but messages are delayed or missing. Webhook retries? – Product Team', 'Title': 'Slack integration messages delayed or missing with webhook retries', 'Browser': '', 'OS': '', 'Customer_Type': 'Enterprise', 'Issue': 'Delayed or missing Slack messages with webhook retries', 'Resolution': 'Verify webhook retry settings in Slack app configuration and ensure proper integration'}, page_content=\"{'Query': 'we integrated your app with Slack but messages are delayed or missing. Webhook retries? – Product Team', 'Title': 'Slack integration messages delayed or missing with webhook retries', 'Browser': '', 'OS': '', 'Customer_Type': 'Enterprise', 'Issue': 'Delayed or missing Slack messages with webhook retries', 'Resolution': 'Verify webhook retry settings in Slack app configuration and ensure proper integration'}\"),\n",
       " Document(metadata={'Query': 'I’m using Brave browser and the login page doesn’t load—it’s just blank. Any compatibility issues?', 'Title': 'Login page not loading in Brave browser', 'Browser': 'Brave', 'OS': '', 'Customer_Type': 'Individual', 'Issue': 'Login page fails to load with blank screen', 'Resolution': 'Check for browser updates and disable any conflicting extensions'}, page_content=\"{'Query': 'I’m using Brave browser and the login page doesn’t load—it’s just blank. Any compatibility issues?', 'Title': 'Login page not loading in Brave browser', 'Browser': 'Brave', 'OS': '', 'Customer_Type': 'Individual', 'Issue': 'Login page fails to load with blank screen', 'Resolution': 'Check for browser updates and disable any conflicting extensions'}\"),\n",
       " Document(metadata={'Query': 'when exporting a CSV report', 'Title': 'CSV export formatting issue with commas in text fields', 'Browser': '', 'OS': '', 'Customer_Type': 'Developer', 'Issue': 'Commas in text fields cause CSV export formatting issues', 'Resolution': 'Wrap fields in quotes when exporting CSV to prevent comma issues'}, page_content=\"{'Query': 'when exporting a CSV report', 'Title': 'CSV export formatting issue with commas in text fields', 'Browser': '', 'OS': '', 'Customer_Type': 'Developer', 'Issue': 'Commas in text fields cause CSV export formatting issues', 'Resolution': 'Wrap fields in quotes when exporting CSV to prevent comma issues'}\"),\n",
       " Document(metadata={'Query': 'We tried sending a bulk invite to users but only some received the email. We’re using the admin console. Why?', 'Title': 'Bulk invite not reaching all users in admin console', 'Browser': '', 'OS': '', 'Customer_Type': 'Enterprise', 'Issue': 'Bulk invite not reaching all users in admin console', 'Resolution': 'Check email server settings and verify recipient list for bulk invites'}, page_content=\"{'Query': 'We tried sending a bulk invite to users but only some received the email. We’re using the admin console. Why?', 'Title': 'Bulk invite not reaching all users in admin console', 'Browser': '', 'OS': '', 'Customer_Type': 'Enterprise', 'Issue': 'Bulk invite not reaching all users in admin console', 'Resolution': 'Check email server settings and verify recipient list for bulk invites'}\"),\n",
       " Document(metadata={'Query': 'I accidentally deleted an important workspace. Is there a way to restore it? It happened an hour ago. – Maria', 'Title': 'Workspace deletion and restoration request', 'Browser': '', 'OS': '', 'Customer_Type': 'Individual', 'Issue': 'Accidental deletion of workspace and need to restore it', 'Resolution': 'Check if a backup exists and restore it'}, page_content=\"{'Query': 'I accidentally deleted an important workspace. Is there a way to restore it? It happened an hour ago. – Maria', 'Title': 'Workspace deletion and restoration request', 'Browser': '', 'OS': '', 'Customer_Type': 'Individual', 'Issue': 'Accidental deletion of workspace and need to restore it', 'Resolution': 'Check if a backup exists and restore it'}\")]"
      ]
     },
     "execution_count": 3,
     "metadata": {},
     "output_type": "execute_result"
    }
   ],
   "source": [
    "\"\"\"\n",
    "- Convert the CSV file into a JSON Object\n",
    "- Convert each row into a Document\n",
    "\"\"\"\n",
    "from langchain.schema import Document\n",
    "\n",
    "\n",
    "file_path = \"./datasets/query_support_ticket.csv\"\n",
    "\n",
    "with open(file_path, mode='r', newline='', encoding ='utf-8') as csvfile:\n",
    "    data = list(csv.DictReader(csvfile))\n",
    "\n",
    "documents = [Document(page_content=str(row), metadata=row) for row in data]\n",
    "documents"
   ]
  },
  {
   "cell_type": "code",
   "execution_count": 4,
   "id": "7672a88b",
   "metadata": {},
   "outputs": [],
   "source": [
    "\"\"\"\n",
    "- Use a light weight and free Open Source Embedding Model (using SentenceTransformers)\n",
    "- create a FAISS Vector Store from the Documents\n",
    "- Persist the FAISS index locally for later use\n",
    "\"\"\"\n",
    "\n",
    "model_name = \"all-MiniLM-L6-v2\"\n",
    "\n",
    "embeddings = HuggingFaceEmbeddings(model_name = model_name)\n",
    "\n",
    "faiss_db = FAISS.from_documents(documents, embeddings)\n",
    "faiss_db.save_local(\"./vectorDB/faiss_index\")\n"
   ]
  },
  {
   "cell_type": "code",
   "execution_count": 5,
   "id": "e60e938d",
   "metadata": {},
   "outputs": [
    {
     "name": "stdout",
     "output_type": "stream",
     "text": [
      "page_content='{'Query': 'I’m using Brave browser and the login page doesn’t load—it’s just blank. Any compatibility issues?', 'Title': 'Login page not loading in Brave browser', 'Browser': 'Brave', 'OS': '', 'Customer_Type': 'Individual', 'Issue': 'Login page fails to load with blank screen', 'Resolution': 'Check for browser updates and disable any conflicting extensions'}' metadata={'Query': 'I’m using Brave browser and the login page doesn’t load—it’s just blank. Any compatibility issues?', 'Title': 'Login page not loading in Brave browser', 'Browser': 'Brave', 'OS': '', 'Customer_Type': 'Individual', 'Issue': 'Login page fails to load with blank screen', 'Resolution': 'Check for browser updates and disable any conflicting extensions'}\n",
      "page_content='{'Query': 'every time I try to reset my password', 'Title': 'Password reset token expired error', 'Browser': '', 'OS': '', 'Customer_Type': 'Individual', 'Issue': 'Password reset token expired error', 'Resolution': 'Check if the password reset link was clicked immediately and ensure the token is valid. If the issue persists'}' metadata={'Query': 'every time I try to reset my password', 'Title': 'Password reset token expired error', 'Browser': '', 'OS': '', 'Customer_Type': 'Individual', 'Issue': 'Password reset token expired error', 'Resolution': 'Check if the password reset link was clicked immediately and ensure the token is valid. If the issue persists'}\n",
      "page_content='{'Query': 'we recently switched to SAML authentication', 'Title': \"SAML Authentication Issue: New Users Getting 'Invalid Assertion' Errors\", 'Browser': '', 'OS': '', 'Customer_Type': 'Enterprise', 'Issue': \"New users are encountering 'invalid assertion' errors after switching to SAML authentication\", 'Resolution': 'Verify SAML configuration'}' metadata={'Query': 'we recently switched to SAML authentication', 'Title': \"SAML Authentication Issue: New Users Getting 'Invalid Assertion' Errors\", 'Browser': '', 'OS': '', 'Customer_Type': 'Enterprise', 'Issue': \"New users are encountering 'invalid assertion' errors after switching to SAML authentication\", 'Resolution': 'Verify SAML configuration'}\n",
      "page_content='{'Query': \"I'm getting logged out randomly while working. It’s disrupting my work. Session timeout setting? – Omar\", 'Title': 'Random login logout due to session timeout', 'Browser': '', 'OS': '', 'Customer_Type': 'Individual', 'Issue': 'Random login logout due to session timeout', 'Resolution': 'Check and adjust the session timeout settings in your account or system configuration'}' metadata={'Query': \"I'm getting logged out randomly while working. It’s disrupting my work. Session timeout setting? – Omar\", 'Title': 'Random login logout due to session timeout', 'Browser': '', 'OS': '', 'Customer_Type': 'Individual', 'Issue': 'Random login logout due to session timeout', 'Resolution': 'Check and adjust the session timeout settings in your account or system configuration'}\n"
     ]
    }
   ],
   "source": [
    "# Example query text\n",
    "query = \"I have a login error in chrome\"\n",
    "\n",
    "# Perform a similarity search\n",
    "results = faiss_db.similarity_search(query)\n",
    "\n",
    "# Print out the results\n",
    "for result in results:\n",
    "    print(result)  # or result.metadata, depending on what you stored\n"
   ]
  },
  {
   "cell_type": "markdown",
   "id": "7e01a543",
   "metadata": {},
   "source": [
    "## If computer is restarted then we can load local database created above\n"
   ]
  },
  {
   "cell_type": "code",
   "execution_count": 6,
   "id": "d34a2716",
   "metadata": {},
   "outputs": [
    {
     "name": "stdout",
     "output_type": "stream",
     "text": [
      "{'Query': 'the app is stuck on a loading spinner after login. Happens on Android 13. Works fine on iOS. Any updates? – Beta Tester', 'Title': 'App loading spinner stuck after login on Android 13', 'Browser': 'Android 13', 'OS': 'Android', 'Customer_Type': 'Beta Tester', 'Issue': 'App is stuck on loading spinner after login on Android 13', 'Resolution': 'Check for app updates and ensure the device is running the latest Android OS version'}\n",
      "{'Query': \"The mobile app crashes on launch for Android 14 users. It briefly shows the splash screen then closes. We've tried reinstalling. Help? – Dev Team\", 'Title': 'Mobile app crashes on launch for Android 14 users', 'Browser': '', 'OS': 'Android 14', 'Customer_Type': 'Developer', 'Issue': 'Mobile app crashes on launch for Android 14 users', 'Resolution': 'Check for app updates and ensure the device is compatible with Android 14. If the issue persists'}\n",
      "{'Query': 'I’m using Brave browser and the login page doesn’t load—it’s just blank. Any compatibility issues?', 'Title': 'Login page not loading in Brave browser', 'Browser': 'Brave', 'OS': '', 'Customer_Type': 'Individual', 'Issue': 'Login page fails to load with blank screen', 'Resolution': 'Check for browser updates and disable any conflicting extensions'}\n",
      "{'Query': 'every time I try to reset my password', 'Title': 'Password reset token expired error', 'Browser': '', 'OS': '', 'Customer_Type': 'Individual', 'Issue': 'Password reset token expired error', 'Resolution': 'Check if the password reset link was clicked immediately and ensure the token is valid. If the issue persists'}\n"
     ]
    }
   ],
   "source": [
    "from langchain.vectorstores import FAISS\n",
    "from langchain_huggingface import HuggingFaceEmbeddings\n",
    "\n",
    "model_name = \"all-MiniLM-L6-v2\"\n",
    "embeddings = HuggingFaceEmbeddings(model_name=model_name)\n",
    "\n",
    "# Load the persisted FAISS index with dangerous deserialization allowed\n",
    "faiss_db = FAISS.load_local(\"./vectorDB/faiss_index\", embeddings, allow_dangerous_deserialization=True)\n",
    "\n",
    "query = \"Mobile login error\"\n",
    "results = faiss_db.similarity_search(query)\n",
    "\n",
    "for result in results:\n",
    "    print(result.page_content)\n"
   ]
  },
  {
   "cell_type": "code",
   "execution_count": 7,
   "id": "5a32d513",
   "metadata": {},
   "outputs": [],
   "source": [
    "\n",
    "def query_faiss(user_query, index_path=\"./vectorDB/faiss_index\", top_k=5):\n",
    "    \"\"\"\n",
    "    Given a user query, this function loads the persisted FAISS index,\n",
    "    performs a similarity search, and returns the top_k matching documents.\n",
    "    \n",
    "    Args:\n",
    "        user_query (str): The input query from the user.\n",
    "        index_path (str): The path where the FAISS index is saved.\n",
    "        top_k (int): Number of similar documents to return.\n",
    "        \n",
    "    Returns:\n",
    "        list: A list of the top_k matching document objects.\n",
    "    \"\"\"\n",
    "    \n",
    "    model_name = \"all-MiniLM-L6-v2\"\n",
    "    embeddings = HuggingFaceEmbeddings(model_name=model_name)\n",
    "    \n",
    "    faiss_db = FAISS.load_local(index_path, embeddings, allow_dangerous_deserialization=True)\n",
    "    results = faiss_db.similarity_search(user_query, k=top_k)\n",
    "    \n",
    "    return results"
   ]
  },
  {
   "cell_type": "code",
   "execution_count": 8,
   "id": "aa316e8b",
   "metadata": {},
   "outputs": [
    {
     "name": "stdout",
     "output_type": "stream",
     "text": [
      "\n",
      "Top matching documents:\n",
      "-----\n",
      "{'Query': \"we tried importing our user data via CSV but keep getting 'Invalid file format' even though it follows the template.\", 'Title': 'CSV import failure with invalid format', 'Browser': 'Edge', 'OS': 'Windows 11', 'Customer_Type': 'Individual', 'Issue': 'CSV file format error despite following the template', 'Resolution': 'Verify file encoding (UTF-8 or UTF-16) and check for missing commas or incorrect delimiters in the CSV'}\n",
      "-----\n",
      "{'Query': 'when exporting a CSV report', 'Title': 'CSV export formatting issue with commas in text fields', 'Browser': '', 'OS': '', 'Customer_Type': 'Developer', 'Issue': 'Commas in text fields cause CSV export formatting issues', 'Resolution': 'Wrap fields in quotes when exporting CSV to prevent comma issues'}\n",
      "-----\n",
      "{'Query': \"I just tried uploading a logo in our profile settings and received 'Unsupported file format'—but it's a PNG.\", 'Title': \"Logo upload fails with 'Unsupported file format' error\", 'Browser': '', 'OS': '', 'Customer_Type': 'Individual', 'Issue': \"Logo upload fails with 'Unsupported file format' error\", 'Resolution': 'Check if the server settings allow PNG file uploads and ensure the file is correctly formatted.'}\n",
      "-----\n",
      "{'Query': \"attachments aren't downloading properly in Safari—they appear as .txt instead of PDFs. This is only happening for some users.\", 'Title': 'Attachments not downloading correctly in Safari', 'Browser': 'Safari', 'OS': '', 'Customer_Type': 'Individual', 'Issue': 'Attachments are displayed as .txt instead of PDFs in Safari.', 'Resolution': \"Check Safari's download settings to ensure PDFs are allowed and try clearing the cache.\"}\n",
      "-----\n",
      "{'Query': \"we're seeing duplicated records after importing contacts. Can you prevent duplicates based on email ID? – CRM Admin\", 'Title': 'Duplicate records during contact import based on email ID', 'Browser': '', 'OS': '', 'Customer_Type': 'Individual', 'Issue': 'Duplicate records after importing contacts based on email ID', 'Resolution': 'Configure the import settings to check for existing email IDs and prevent duplicates'}\n"
     ]
    }
   ],
   "source": [
    "# Example usage:\n",
    "if __name__ == \"__main__\":\n",
    "    query = input(\"Enter your query: \")\n",
    "    similar_docs = query_faiss(query)\n",
    "    \n",
    "    print(\"\\nTop matching documents:\")\n",
    "    for doc in similar_docs:\n",
    "        print(\"-----\")\n",
    "        print(doc.page_content)\n"
   ]
  },
  {
   "cell_type": "code",
   "execution_count": 9,
   "id": "4323eef6",
   "metadata": {},
   "outputs": [],
   "source": [
    "import os\n",
    "from dotenv import load_dotenv\n",
    "from langchain.vectorstores import FAISS\n",
    "from langchain_huggingface import HuggingFaceEmbeddings\n",
    "from langchain.chat_models import ChatOpenAI\n",
    "from langchain.callbacks import StreamlitCallbackHandler  # example callback for streaming output\n",
    "from langchain.schema import HumanMessage, SystemMessage\n",
    "\n",
    "# Load environment variables (make sure OPENAI_API_KEY is set)\n",
    "load_dotenv()\n",
    "\n",
    "\n",
    "def construct_rag_prompt(query, retrieved_docs):\n",
    "    \"\"\"\n",
    "    Build a prompt that includes retrieved document content and the user's query.\n",
    "    \"\"\"\n",
    "    context = \"\\n\\n\".join([doc.page_content for doc in retrieved_docs])\n",
    "    print(context)\n",
    "    prompt = f\"\"\"\n",
    "        You are a customer support AI assistant. Your task is to find the most appropriate resolution for a customer's issue based on their query.\n",
    "\n",
    "        You are given:\n",
    "        - A dataset of support tickets consisting of past customer's query that may contain similar issues and their corresponding resolutions\n",
    "\n",
    "        Example input:\n",
    "        Customer Query: \"Hello team, we can’t delete old projects—clicking delete does nothing. No error message either. Using Edge on Windows.\"\n",
    "\n",
    "        Retrieved Support Tickets:\n",
    "        1. Issue: Project deletion not working\n",
    "            Browser: Edge\n",
    "            OS: Windows\n",
    "            Resolution: Check Edge settings or project status\n",
    "        \n",
    "        Expected Response:\n",
    "        Check Edge settings or project status\n",
    "\n",
    "        Retrieved Documents : \n",
    "        {context}\n",
    "\n",
    "        Instructions:\n",
    "        1. Carefully analyze the customer's query.\n",
    "        2. Review the retrieved support tickets to find one that closely matches the issue described.\n",
    "        3. If a relevant resolution is found in the support tickets, return the most suitable resolution.\n",
    "        4. If no matching issue is found, respond with: \"No relevant resolution found in the current knowledge base.\"\n",
    "\n",
    "        Respond with only the resolution text if found.\n",
    "\n",
    "        Customer Query : \n",
    "        {query}\n",
    "\n",
    "    \"\"\"\n",
    "    return prompt"
   ]
  },
  {
   "cell_type": "code",
   "execution_count": 10,
   "id": "82de9946",
   "metadata": {},
   "outputs": [],
   "source": [
    "from transformers import AutoModelForCausalLM, AutoTokenizer\n",
    "\n",
    "\n",
    "\n",
    "def get_response_qwen3_1_7b(prompt):\n",
    "    \n",
    "    model_name = \"Qwen/Qwen3-1.7B\"\n",
    "    # load the tokenizer and the model\n",
    "    tokenizer = AutoTokenizer.from_pretrained(model_name)\n",
    "    model = AutoModelForCausalLM.from_pretrained(\n",
    "        model_name,\n",
    "        torch_dtype=\"auto\",\n",
    "        device_map=\"auto\"\n",
    "    )\n",
    "    \n",
    "    messages = [\n",
    "        {\"role\": \"user\", \"content\": prompt}\n",
    "    ]\n",
    "    text = tokenizer.apply_chat_template(\n",
    "        messages,\n",
    "        tokenize=False,\n",
    "        add_generation_prompt=True,\n",
    "        enable_thinking=True # Switches between thinking and non-thinking modes. Default is True.\n",
    "    )\n",
    "    model_inputs = tokenizer([text], return_tensors=\"pt\").to(model.device)\n",
    "\n",
    "    # conduct text completion\n",
    "    generated_ids = model.generate(\n",
    "        **model_inputs,\n",
    "        max_new_tokens=32768\n",
    "    )\n",
    "    output_ids = generated_ids[0][len(model_inputs.input_ids[0]):].tolist() \n",
    "\n",
    "    # parsing thinking content\n",
    "    try:\n",
    "        # rindex finding 151668 (</think>)\n",
    "        index = len(output_ids) - output_ids[::-1].index(151668)\n",
    "    except ValueError:\n",
    "        index = 0\n",
    "\n",
    "    thinking_content = tokenizer.decode(output_ids[:index], skip_special_tokens=True).strip(\"\\n\")\n",
    "    content = tokenizer.decode(output_ids[index:], skip_special_tokens=True).strip(\"\\n\")\n",
    "\n",
    "    print(\"thinking content:\", thinking_content)\n",
    "    print(\"content:\", content)\n",
    "\n",
    "    return content"
   ]
  },
  {
   "cell_type": "code",
   "execution_count": 11,
   "id": "2d773f2c",
   "metadata": {},
   "outputs": [
    {
     "name": "stdout",
     "output_type": "stream",
     "text": [
      "{'Query': \"we tried importing our user data via CSV but keep getting 'Invalid file format' even though it follows the template.\", 'Title': 'CSV import failure with invalid format', 'Browser': 'Edge', 'OS': 'Windows 11', 'Customer_Type': 'Individual', 'Issue': 'CSV file format error despite following the template', 'Resolution': 'Verify file encoding (UTF-8 or UTF-16) and check for missing commas or incorrect delimiters in the CSV'}\n",
      "\n",
      "{'Query': \"I just tried uploading a logo in our profile settings and received 'Unsupported file format'—but it's a PNG.\", 'Title': \"Logo upload fails with 'Unsupported file format' error\", 'Browser': '', 'OS': '', 'Customer_Type': 'Individual', 'Issue': \"Logo upload fails with 'Unsupported file format' error\", 'Resolution': 'Check if the server settings allow PNG file uploads and ensure the file is correctly formatted.'}\n",
      "\n",
      "{'Query': 'when exporting a CSV report', 'Title': 'CSV export formatting issue with commas in text fields', 'Browser': '', 'OS': '', 'Customer_Type': 'Developer', 'Issue': 'Commas in text fields cause CSV export formatting issues', 'Resolution': 'Wrap fields in quotes when exporting CSV to prevent comma issues'}\n",
      "\n",
      "{'Query': \"attachments aren't downloading properly in Safari—they appear as .txt instead of PDFs. This is only happening for some users.\", 'Title': 'Attachments not downloading correctly in Safari', 'Browser': 'Safari', 'OS': '', 'Customer_Type': 'Individual', 'Issue': 'Attachments are displayed as .txt instead of PDFs in Safari.', 'Resolution': \"Check Safari's download settings to ensure PDFs are allowed and try clearing the cache.\"}\n",
      "\n",
      "{'Query': \"we're seeing duplicated records after importing contacts. Can you prevent duplicates based on email ID? – CRM Admin\", 'Title': 'Duplicate records during contact import based on email ID', 'Browser': '', 'OS': '', 'Customer_Type': 'Individual', 'Issue': 'Duplicate records after importing contacts based on email ID', 'Resolution': 'Configure the import settings to check for existing email IDs and prevent duplicates'}\n"
     ]
    },
    {
     "data": {
      "application/vnd.jupyter.widget-view+json": {
       "model_id": "0ffe4b52820d482880544ad57a0ab9cb",
       "version_major": 2,
       "version_minor": 0
      },
      "text/plain": [
       "Loading checkpoint shards:   0%|          | 0/2 [00:00<?, ?it/s]"
      ]
     },
     "metadata": {},
     "output_type": "display_data"
    },
    {
     "name": "stdout",
     "output_type": "stream",
     "text": [
      "thinking content: <think>\n",
      "Okay, let's see. The customer's query is about importing user data via CSV but getting an 'Invalid file format' even though the file follows the template. I need to find a matching support ticket.\n",
      "\n",
      "Looking at the retrieved documents, the first one is about a CSV import failure with invalid format. The customer's query matches that exactly: they tried importing via CSV, got invalid format despite following the template. The resolution there is to check the file encoding (UTF-8 or UTF-16) and check for missing commas or incorrect delimiters. \n",
      "\n",
      "The other tickets are about different issues like logo uploads, CSV export formatting, and attachments. The customer's issue is specifically about CSV import format, so the first document is the closest match. The resolution provided there is relevant here. \n",
      "\n",
      "No other tickets mention CSV import errors. So the answer should be the resolution from the first document.\n",
      "</think>\n",
      "content: Check UTF-8 or UTF-16 encoding and check for missing commas or incorrect delimiters in the CSV\n"
     ]
    },
    {
     "data": {
      "text/plain": [
       "'Check UTF-8 or UTF-16 encoding and check for missing commas or incorrect delimiters in the CSV'"
      ]
     },
     "execution_count": 11,
     "metadata": {},
     "output_type": "execute_result"
    }
   ],
   "source": [
    "query = \"Tried importing our user data via CSV but keep getting 'Invalid file format' even though it follows the template.\"\n",
    "retrieved_docs = query_faiss(query)\n",
    "    \n",
    "prompt = construct_rag_prompt(query, retrieved_docs)\n",
    "get_response_qwen3_1_7b(prompt)"
   ]
  },
  {
   "cell_type": "code",
   "execution_count": null,
   "id": "7eeb2676",
   "metadata": {},
   "outputs": [],
   "source": []
  }
 ],
 "metadata": {
  "kernelspec": {
   "display_name": "HandsOnLLMs",
   "language": "python",
   "name": "python3"
  },
  "language_info": {
   "codemirror_mode": {
    "name": "ipython",
    "version": 3
   },
   "file_extension": ".py",
   "mimetype": "text/x-python",
   "name": "python",
   "nbconvert_exporter": "python",
   "pygments_lexer": "ipython3",
   "version": "3.10.13"
  }
 },
 "nbformat": 4,
 "nbformat_minor": 5
}
